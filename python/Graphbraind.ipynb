{
 "cells": [
  {
   "cell_type": "code",
   "execution_count": 54,
   "id": "83287e9e",
   "metadata": {},
   "outputs": [],
   "source": [
    "import spacy\n",
    "from graphbrain.parsers import *\n",
    "parser = create_parser(lang='en')"
   ]
  },
  {
   "cell_type": "code",
   "execution_count": 55,
   "id": "e785ff52",
   "metadata": {},
   "outputs": [],
   "source": [
    "text = '''This text is a writing about words. That is interesting. Words that speak about words. Well, these words are not really speaking. People can speak. If you are a person, you can do it. Or something like that. Really, not all people are able to speak.  Some can't do that because they are too small.  They don't have a long life. So, they are not old enough to know how to say things.\n",
    "\n",
    "Other people are old but they are unable to speak.  These people are not too little, they have a life long enough to learn to say things. But they are mute. These people study another manner to tell their words. They study other manners to tell what they want to say to somebody. Really, they understand a lot about how to have conversations. When they don't know something, they can ask questions. And after they hear an answer, they can tell what they think about the answer.\n",
    "\n",
    "But this text isn't about mute people. It is a work to help you to study. That is my job. I am writing this all to show you some things about grammar, writing, sentences, and how to have better conversations in English. This is a simple text. Here you don't see so many things. You can look inside all these sentences, and you do not face big words. This is not a paper. And it is also a small work. It's not a lot of words like what you have in a whole book. \n",
    "\n",
    "Learning English is like a sport. You need to make some things a lot or you forget it all. You start doing the work, if you don't do it enough time, you better forget about learning. That's why the whole time, I take a word and I write it in a sentence the first time. Then, I tell you all again, but in another manner.  Why? Because when you do things like that, it is easy to remember what you face for the first time.  \n",
    "\n",
    "We all learn also by making mistakes. When we start to learn we need to ask for answers, we have to ask for help. But also, we must study a lot. By doing that,  we can remember what we learn. If we don't make mistakes, we can't change and do things well one day. We have accidents, we repair it all, we face the whole thing a thousand times, and we understand, we remember. We change, in a way we are better. Why? we do the job, we really learn.\n",
    "'''"
   ]
  },
  {
   "cell_type": "code",
   "execution_count": 58,
   "id": "6eaaf8d1",
   "metadata": {
    "scrolled": false
   },
   "outputs": [
    {
     "name": "stdout",
     "output_type": "stream",
     "text": [
      "LEN:  45\n"
     ]
    },
    {
     "data": {
      "text/html": [
       "<span style=\"color:#303030\"><span style=\"font-weight:bold\">(</span><span style=\"color:#cb4b16\"><span style=\"color:#cb4b16\">is</span><span style=\"color:#000000;font-weight:lighter\">/Pd.sc.|f--3s-/en</span> <div style=\"margin-left:20px;color:#268bd2\"><span style=\"font-weight:bold\">(</span><span style=\"color:#dc322f\"><span style=\"color:#dc322f\">this</span><span style=\"color:#000000;font-weight:lighter\">/Md/en</span> <span style=\"color:#268bd2\"><span style=\"color:#268bd2\">text</span><span style=\"color:#000000;font-weight:lighter\">/Cc.s/en</span><span style=\"color:#268bd2\"><span style=\"font-weight:bold\">)</span></span></div> <div style=\"margin-left:20px;color:#268bd2\"><span style=\"font-weight:bold\">(</span><span style=\"color:#859900\"><span style=\"color:#859900\">about</span><span style=\"color:#000000;font-weight:lighter\">/Br.ma/en</span> <div style=\"margin-left:20px;color:#268bd2\"><span style=\"font-weight:bold\">(</span><span style=\"color:#dc322f\"><span style=\"color:#dc322f\">a</span><span style=\"color:#000000;font-weight:lighter\">/Md/en</span> <span style=\"color:#268bd2\"><span style=\"color:#268bd2\">writing</span><span style=\"color:#000000;font-weight:lighter\">/Cc.s/en</span><span style=\"color:#268bd2\"><span style=\"font-weight:bold\">)</span></span></div> <div style=\"margin-left:20px;color:#268bd2\"><span style=\"color:#268bd2\">words</span><span style=\"color:#000000;font-weight:lighter\">/Cc.p/en</span><span style=\"color:#268bd2\"><span style=\"font-weight:bold\">)</span></span><span style=\"color:#303030\"><span style=\"font-weight:bold\">)</span></span></div></span>"
      ],
      "text/plain": [
       "<IPython.core.display.HTML object>"
      ]
     },
     "metadata": {},
     "output_type": "display_data"
    },
    {
     "data": {
      "text/html": [
       "<span style=\"color:#303030\"><span style=\"font-weight:bold\">(</span><span style=\"color:#cb4b16\"><span style=\"color:#cb4b16\">is</span><span style=\"color:#000000;font-weight:lighter\">/Pd.sc.|f--3s-/en</span> <span style=\"color:#268bd2\"><span style=\"color:#268bd2\">that</span><span style=\"color:#000000;font-weight:lighter\">/Cd/en</span> <span style=\"color:#268bd2\"><span style=\"color:#268bd2\">interesting</span><span style=\"color:#000000;font-weight:lighter\">/Ca/en</span><span style=\"color:#303030\"><span style=\"font-weight:bold\">)</span></span></span>"
      ],
      "text/plain": [
       "<IPython.core.display.HTML object>"
      ]
     },
     "metadata": {},
     "output_type": "display_data"
    },
    {
     "data": {
      "text/html": [
       "<span style=\"color:#268bd2\"><span style=\"font-weight:bold\">(</span><span style=\"color:#b58900\"><span style=\"color:#b58900\">:</span><span style=\"color:#000000;font-weight:lighter\">/J/.</span> <div style=\"margin-left:20px;color:#268bd2\"><span style=\"color:#268bd2\">words</span><span style=\"color:#000000;font-weight:lighter\">/Cc.p/en</span> <div style=\"margin-left:20px;color:#303030\"><span style=\"font-weight:bold\">(</span><span style=\"color:#cb4b16\"><span style=\"color:#cb4b16\">speak</span><span style=\"color:#000000;font-weight:lighter\">/P.sx.|f-----/en</span> <div style=\"margin-left:20px;color:#268bd2\"><span style=\"color:#268bd2\">that</span><span style=\"color:#000000;font-weight:lighter\">/C/en</span> <div style=\"margin-left:20px;color:#6c71c4\"><span style=\"font-weight:bold\">(</span><span style=\"color:#d33682\"><span style=\"color:#d33682\">about</span><span style=\"color:#000000;font-weight:lighter\">/T/en</span> <span style=\"color:#268bd2\"><span style=\"color:#268bd2\">words</span><span style=\"color:#000000;font-weight:lighter\">/Cc.p/en</span><span style=\"color:#6c71c4\"><span style=\"font-weight:bold\">)</span></span><span style=\"color:#303030\"><span style=\"font-weight:bold\">)</span></span><span style=\"color:#268bd2\"><span style=\"font-weight:bold\">)</span></span></div></div></span>"
      ],
      "text/plain": [
       "<IPython.core.display.HTML object>"
      ]
     },
     "metadata": {},
     "output_type": "display_data"
    },
    {
     "data": {
      "text/html": [
       "<span style=\"color:#303030\"><span style=\"font-weight:bold\">(</span><span style=\"color:#cb4b16\"><span style=\"font-weight:bold\">(</span><span style=\"color:#dc322f\"><span style=\"color:#dc322f\">are</span><span style=\"color:#000000;font-weight:lighter\">/Mv.|f-----/en</span> <span style=\"color:#cb4b16\"><span style=\"font-weight:bold\">(</span><span style=\"color:#dc322f\"><span style=\"color:#dc322f\">not</span><span style=\"color:#000000;font-weight:lighter\">/Mn/en</span> <span style=\"color:#cb4b16\"><span style=\"font-weight:bold\">(</span><span style=\"color:#dc322f\"><span style=\"color:#dc322f\">really</span><span style=\"color:#000000;font-weight:lighter\">/M/en</span> <span style=\"color:#cb4b16\"><span style=\"color:#cb4b16\">speaking</span><span style=\"color:#000000;font-weight:lighter\">/Pd.js.|pg----/en</span><span style=\"color:#cb4b16\"><span style=\"font-weight:bold\">)</span></span><span style=\"color:#cb4b16\"><span style=\"font-weight:bold\">)</span></span><span style=\"color:#cb4b16\"><span style=\"font-weight:bold\">)</span></span></span></span></span> <div style=\"margin-left:20px;color:#268bd2\"><span style=\"color:#268bd2\">well</span><span style=\"color:#000000;font-weight:lighter\">/C/en</span> <div style=\"margin-left:20px;color:#268bd2\"><span style=\"font-weight:bold\">(</span><span style=\"color:#dc322f\"><span style=\"color:#dc322f\">these</span><span style=\"color:#000000;font-weight:lighter\">/Md/en</span> <span style=\"color:#268bd2\"><span style=\"color:#268bd2\">words</span><span style=\"color:#000000;font-weight:lighter\">/Cc.p/en</span><span style=\"color:#268bd2\"><span style=\"font-weight:bold\">)</span></span><span style=\"color:#303030\"><span style=\"font-weight:bold\">)</span></span></div></span>"
      ],
      "text/plain": [
       "<IPython.core.display.HTML object>"
      ]
     },
     "metadata": {},
     "output_type": "display_data"
    },
    {
     "data": {
      "text/html": [
       "<span style=\"color:#303030\"><span style=\"font-weight:bold\">(</span><span style=\"color:#cb4b16\"><span style=\"font-weight:bold\">(</span><span style=\"color:#dc322f\"><span style=\"color:#dc322f\">can</span><span style=\"color:#000000;font-weight:lighter\">/Mm/en</span> <span style=\"color:#cb4b16\"><span style=\"color:#cb4b16\">speak</span><span style=\"color:#000000;font-weight:lighter\">/Pd.s.-i-----/en</span><span style=\"color:#cb4b16\"><span style=\"font-weight:bold\">)</span></span></span> <span style=\"color:#268bd2\"><span style=\"color:#268bd2\">people</span><span style=\"color:#000000;font-weight:lighter\">/Cc.p/en</span><span style=\"color:#303030\"><span style=\"font-weight:bold\">)</span></span></span>"
      ],
      "text/plain": [
       "<IPython.core.display.HTML object>"
      ]
     },
     "metadata": {},
     "output_type": "display_data"
    },
    {
     "data": {
      "text/html": [
       "<span style=\"color:#303030\"><span style=\"font-weight:bold\">(</span><span style=\"color:#cb4b16\"><span style=\"font-weight:bold\">(</span><span style=\"color:#dc322f\"><span style=\"color:#dc322f\">can</span><span style=\"color:#000000;font-weight:lighter\">/Mm/en</span> <span style=\"color:#cb4b16\"><span style=\"color:#cb4b16\">do</span><span style=\"color:#000000;font-weight:lighter\">/Pd.xso.-i-----/en</span><span style=\"color:#cb4b16\"><span style=\"font-weight:bold\">)</span></span></span> <div style=\"margin-left:20px;color:#303030\"><span style=\"font-weight:bold\">(</span><span style=\"color:#cb4b16\"><span style=\"font-weight:bold\">(</span><span style=\"color:#dc322f\"><span style=\"color:#dc322f\">if</span><span style=\"color:#000000;font-weight:lighter\">/M/en</span> <span style=\"color:#cb4b16\"><span style=\"color:#cb4b16\">are</span><span style=\"color:#000000;font-weight:lighter\">/Pd.sc.|f-----/en</span><span style=\"color:#cb4b16\"><span style=\"font-weight:bold\">)</span></span></span> <div style=\"margin-left:20px;color:#268bd2\"><span style=\"color:#268bd2\">you</span><span style=\"color:#000000;font-weight:lighter\">/Ci/en</span> <div style=\"margin-left:20px;color:#268bd2\"><span style=\"font-weight:bold\">(</span><span style=\"color:#dc322f\"><span style=\"color:#dc322f\">a</span><span style=\"color:#000000;font-weight:lighter\">/Md/en</span> <span style=\"color:#268bd2\"><span style=\"color:#268bd2\">person</span><span style=\"color:#000000;font-weight:lighter\">/Cc.s/en</span><span style=\"color:#268bd2\"><span style=\"font-weight:bold\">)</span></span><span style=\"color:#303030\"><span style=\"font-weight:bold\">)</span></span></div></div> <div style=\"margin-left:20px;color:#268bd2\"><span style=\"color:#268bd2\">you</span><span style=\"color:#000000;font-weight:lighter\">/Ci/en</span> <div style=\"margin-left:20px;color:#268bd2\"><span style=\"color:#268bd2\">it</span><span style=\"color:#000000;font-weight:lighter\">/Ci/en</span><span style=\"color:#303030\"><span style=\"font-weight:bold\">)</span></span></span>"
      ],
      "text/plain": [
       "<IPython.core.display.HTML object>"
      ]
     },
     "metadata": {},
     "output_type": "display_data"
    },
    {
     "data": {
      "text/html": [
       "<span style=\"color:#268bd2\"><span style=\"font-weight:bold\">(</span><span style=\"color:#dc322f\"><span style=\"color:#dc322f\">or</span><span style=\"color:#000000;font-weight:lighter\">/Mj/en</span> <span style=\"color:#268bd2\"><span style=\"font-weight:bold\">(</span><span style=\"color:#859900\"><span style=\"color:#859900\">+</span><span style=\"color:#000000;font-weight:lighter\">/B.mm/.</span> <div style=\"margin-left:20px;color:#268bd2\"><span style=\"color:#268bd2\">something</span><span style=\"color:#000000;font-weight:lighter\">/Cc.s/en</span> <div style=\"margin-left:20px;color:#268bd2\"><span style=\"font-weight:bold\">(</span><span style=\"color:#859900\"><span style=\"color:#859900\">+</span><span style=\"color:#000000;font-weight:lighter\">/B.mm/.</span> <span style=\"color:#268bd2\"><span style=\"color:#268bd2\">like</span><span style=\"color:#000000;font-weight:lighter\">/C/en</span> <span style=\"color:#268bd2\"><span style=\"color:#268bd2\">that</span><span style=\"color:#000000;font-weight:lighter\">/Cd/en</span><span style=\"color:#268bd2\"><span style=\"font-weight:bold\">)</span></span><span style=\"color:#268bd2\"><span style=\"font-weight:bold\">)</span></span><span style=\"color:#268bd2\"><span style=\"font-weight:bold\">)</span></span></div></span></span>"
      ],
      "text/plain": [
       "<IPython.core.display.HTML object>"
      ]
     },
     "metadata": {},
     "output_type": "display_data"
    },
    {
     "data": {
      "text/html": [
       "<span style=\"color:#303030\"><span style=\"font-weight:bold\">(</span><span style=\"color:#cb4b16\"><span style=\"font-weight:bold\">(</span><span style=\"color:#dc322f\"><span style=\"color:#dc322f\">really</span><span style=\"color:#000000;font-weight:lighter\">/M/en</span> <span style=\"color:#cb4b16\"><span style=\"font-weight:bold\">(</span><span style=\"color:#dc322f\"><span style=\"color:#dc322f\">not</span><span style=\"color:#000000;font-weight:lighter\">/Mn/en</span> <span style=\"color:#cb4b16\"><span style=\"color:#cb4b16\">are</span><span style=\"color:#000000;font-weight:lighter\">/Pd.sc.|f-----/en</span><span style=\"color:#cb4b16\"><span style=\"font-weight:bold\">)</span></span><span style=\"color:#cb4b16\"><span style=\"font-weight:bold\">)</span></span></span></span> <div style=\"margin-left:20px;color:#268bd2\"><span style=\"font-weight:bold\">(</span><span style=\"color:#dc322f\"><span style=\"color:#dc322f\">all</span><span style=\"color:#000000;font-weight:lighter\">/Md/en</span> <span style=\"color:#268bd2\"><span style=\"color:#268bd2\">people</span><span style=\"color:#000000;font-weight:lighter\">/Cc.p/en</span><span style=\"color:#268bd2\"><span style=\"font-weight:bold\">)</span></span></div> <div style=\"margin-left:20px;color:#303030\"><span style=\"font-weight:bold\">(</span><span style=\"color:#cb4b16\"><span style=\"font-weight:bold\">(</span><span style=\"color:#dc322f\"><span style=\"color:#dc322f\">to</span><span style=\"color:#000000;font-weight:lighter\">/Mi/en</span> <span style=\"color:#cb4b16\"><span style=\"color:#cb4b16\">speak</span><span style=\"color:#000000;font-weight:lighter\">/P.c.-i-----/en</span><span style=\"color:#cb4b16\"><span style=\"font-weight:bold\">)</span></span></span> <span style=\"color:#268bd2\"><span style=\"color:#268bd2\">able</span><span style=\"color:#000000;font-weight:lighter\">/Ca/en</span><span style=\"color:#303030\"><span style=\"font-weight:bold\">)</span></span><span style=\"color:#303030\"><span style=\"font-weight:bold\">)</span></span></div></span>"
      ],
      "text/plain": [
       "<IPython.core.display.HTML object>"
      ]
     },
     "metadata": {},
     "output_type": "display_data"
    },
    {
     "data": {
      "text/html": [
       "<span style=\"color:#303030\"><span style=\"font-weight:bold\">(</span><span style=\"color:#cb4b16\"><span style=\"font-weight:bold\">(</span><span style=\"color:#dc322f\"><span style=\"color:#dc322f\">ca</span><span style=\"color:#000000;font-weight:lighter\">/Mm/en</span> <span style=\"color:#cb4b16\"><span style=\"font-weight:bold\">(</span><span style=\"color:#dc322f\"><span style=\"color:#dc322f\">n&#x27;t</span><span style=\"color:#000000;font-weight:lighter\">/Mn/en</span> <span style=\"color:#cb4b16\"><span style=\"color:#cb4b16\">do</span><span style=\"color:#000000;font-weight:lighter\">/Pd.?sox.-i-----/en</span><span style=\"color:#cb4b16\"><span style=\"font-weight:bold\">)</span></span><span style=\"color:#cb4b16\"><span style=\"font-weight:bold\">)</span></span></span></span> <div style=\"margin-left:20px;color:#268bd2\"><span style=\"color:#268bd2\">%20</span><span style=\"color:#000000;font-weight:lighter\">/C/en</span> <div style=\"margin-left:20px;color:#268bd2\"><span style=\"color:#268bd2\">some</span><span style=\"color:#000000;font-weight:lighter\">/Cd/en</span> <div style=\"margin-left:20px;color:#268bd2\"><span style=\"color:#268bd2\">that</span><span style=\"color:#000000;font-weight:lighter\">/Cd/en</span> <div style=\"margin-left:20px;color:#303030\"><span style=\"font-weight:bold\">(</span><span style=\"color:#cb4b16\"><span style=\"font-weight:bold\">(</span><span style=\"color:#dc322f\"><span style=\"color:#dc322f\">because</span><span style=\"color:#000000;font-weight:lighter\">/M/en</span> <span style=\"color:#cb4b16\"><span style=\"color:#cb4b16\">are</span><span style=\"color:#000000;font-weight:lighter\">/Pd.sc.|f-----/en</span><span style=\"color:#cb4b16\"><span style=\"font-weight:bold\">)</span></span></span> <div style=\"margin-left:20px;color:#268bd2\"><span style=\"color:#268bd2\">they</span><span style=\"color:#000000;font-weight:lighter\">/Ci/en</span> <div style=\"margin-left:20px;color:#268bd2\"><span style=\"font-weight:bold\">(</span><span style=\"color:#dc322f\"><span style=\"color:#dc322f\">too</span><span style=\"color:#000000;font-weight:lighter\">/M/en</span> <span style=\"color:#268bd2\"><span style=\"color:#268bd2\">small</span><span style=\"color:#000000;font-weight:lighter\">/Ca/en</span><span style=\"color:#268bd2\"><span style=\"font-weight:bold\">)</span></span><span style=\"color:#303030\"><span style=\"font-weight:bold\">)</span></span><span style=\"color:#303030\"><span style=\"font-weight:bold\">)</span></span></div></div></span>"
      ],
      "text/plain": [
       "<IPython.core.display.HTML object>"
      ]
     },
     "metadata": {},
     "output_type": "display_data"
    },
    {
     "data": {
      "text/html": [
       "<span style=\"color:#303030\"><span style=\"font-weight:bold\">(</span><span style=\"color:#cb4b16\"><span style=\"font-weight:bold\">(</span><span style=\"color:#dc322f\"><span style=\"color:#dc322f\">do</span><span style=\"color:#000000;font-weight:lighter\">/Mv.|f-----/en</span> <span style=\"color:#cb4b16\"><span style=\"font-weight:bold\">(</span><span style=\"color:#dc322f\"><span style=\"color:#dc322f\">n&#x27;t</span><span style=\"color:#000000;font-weight:lighter\">/Mn/en</span> <span style=\"color:#cb4b16\"><span style=\"color:#cb4b16\">have</span><span style=\"color:#000000;font-weight:lighter\">/Pd.?so.-i-----/en</span><span style=\"color:#cb4b16\"><span style=\"font-weight:bold\">)</span></span><span style=\"color:#cb4b16\"><span style=\"font-weight:bold\">)</span></span></span></span> <div style=\"margin-left:20px;color:#268bd2\"><span style=\"color:#268bd2\">%20</span><span style=\"color:#000000;font-weight:lighter\">/C/en</span> <div style=\"margin-left:20px;color:#268bd2\"><span style=\"color:#268bd2\">they</span><span style=\"color:#000000;font-weight:lighter\">/Ci/en</span> <div style=\"margin-left:20px;color:#268bd2\"><span style=\"font-weight:bold\">(</span><span style=\"color:#dc322f\"><span style=\"color:#dc322f\">a</span><span style=\"color:#000000;font-weight:lighter\">/Md/en</span> <span style=\"color:#268bd2\"><span style=\"font-weight:bold\">(</span><span style=\"color:#dc322f\"><span style=\"color:#dc322f\">long</span><span style=\"color:#000000;font-weight:lighter\">/Ma/en</span> <span style=\"color:#268bd2\"><span style=\"color:#268bd2\">life</span><span style=\"color:#000000;font-weight:lighter\">/Cc.s/en</span><span style=\"color:#268bd2\"><span style=\"font-weight:bold\">)</span></span><span style=\"color:#268bd2\"><span style=\"font-weight:bold\">)</span></span><span style=\"color:#303030\"><span style=\"font-weight:bold\">)</span></span></span></div></span>"
      ],
      "text/plain": [
       "<IPython.core.display.HTML object>"
      ]
     },
     "metadata": {},
     "output_type": "display_data"
    },
    {
     "data": {
      "text/html": [
       "<span style=\"color:#303030\"><span style=\"font-weight:bold\">(</span><span style=\"color:#b58900\"><span style=\"color:#b58900\">:</span><span style=\"color:#000000;font-weight:lighter\">/J/.</span> <div style=\"margin-left:20px;color:#303030\"><span style=\"font-weight:bold\">(</span><span style=\"color:#cb4b16\"><span style=\"font-weight:bold\">(</span><span style=\"color:#dc322f\"><span style=\"color:#dc322f\">so</span><span style=\"color:#000000;font-weight:lighter\">/M/en</span> <span style=\"color:#cb4b16\"><span style=\"font-weight:bold\">(</span><span style=\"color:#dc322f\"><span style=\"color:#dc322f\">not</span><span style=\"color:#000000;font-weight:lighter\">/Mn/en</span> <span style=\"color:#cb4b16\"><span style=\"color:#cb4b16\">are</span><span style=\"color:#000000;font-weight:lighter\">/Pd.sc.|f-----/en</span><span style=\"color:#cb4b16\"><span style=\"font-weight:bold\">)</span></span><span style=\"color:#cb4b16\"><span style=\"font-weight:bold\">)</span></span></span></span> <div style=\"margin-left:20px;color:#268bd2\"><span style=\"color:#268bd2\">they</span><span style=\"color:#000000;font-weight:lighter\">/Ci/en</span> <div style=\"margin-left:20px;color:#268bd2\"><span style=\"font-weight:bold\">(</span><span style=\"color:#dc322f\"><span style=\"color:#dc322f\">enough</span><span style=\"color:#000000;font-weight:lighter\">/M/en</span> <span style=\"color:#268bd2\"><span style=\"color:#268bd2\">old</span><span style=\"color:#000000;font-weight:lighter\">/Ca/en</span><span style=\"color:#268bd2\"><span style=\"font-weight:bold\">)</span></span><span style=\"color:#303030\"><span style=\"font-weight:bold\">)</span></span></div></div> <div style=\"margin-left:20px;color:#303030\"><span style=\"font-weight:bold\">(</span><span style=\"color:#cb4b16\"><span style=\"font-weight:bold\">(</span><span style=\"color:#dc322f\"><span style=\"color:#dc322f\">to</span><span style=\"color:#000000;font-weight:lighter\">/Mi/en</span> <span style=\"color:#cb4b16\"><span style=\"color:#cb4b16\">know</span><span style=\"color:#000000;font-weight:lighter\">/P.r.-i-----/en</span><span style=\"color:#cb4b16\"><span style=\"font-weight:bold\">)</span></span></span> <span style=\"color:#303030\"><span style=\"font-weight:bold\">(</span><span style=\"color:#cb4b16\"><span style=\"font-weight:bold\">(</span><span style=\"color:#dc322f\"><span style=\"color:#dc322f\">how</span><span style=\"color:#000000;font-weight:lighter\">/M/en</span> <span style=\"color:#cb4b16\"><span style=\"font-weight:bold\">(</span><span style=\"color:#dc322f\"><span style=\"color:#dc322f\">to</span><span style=\"color:#000000;font-weight:lighter\">/Mi/en</span> <span style=\"color:#cb4b16\"><span style=\"color:#cb4b16\">say</span><span style=\"color:#000000;font-weight:lighter\">/P.o.-i-----/en</span><span style=\"color:#cb4b16\"><span style=\"font-weight:bold\">)</span></span><span style=\"color:#cb4b16\"><span style=\"font-weight:bold\">)</span></span></span></span> <span style=\"color:#268bd2\"><span style=\"color:#268bd2\">things</span><span style=\"color:#000000;font-weight:lighter\">/Cc.p/en</span><span style=\"color:#303030\"><span style=\"font-weight:bold\">)</span></span><span style=\"color:#303030\"><span style=\"font-weight:bold\">)</span></span><span style=\"color:#303030\"><span style=\"font-weight:bold\">)</span></span></span></div></span>"
      ],
      "text/plain": [
       "<IPython.core.display.HTML object>"
      ]
     },
     "metadata": {},
     "output_type": "display_data"
    },
    {
     "data": {
      "text/html": [
       "<span style=\"color:#303030\"><span style=\"font-weight:bold\">(</span><span style=\"color:#b58900\"><span style=\"color:#b58900\">but</span><span style=\"color:#000000;font-weight:lighter\">/J/en</span> <div style=\"margin-left:20px;color:#303030\"><span style=\"font-weight:bold\">(</span><span style=\"color:#cb4b16\"><span style=\"color:#cb4b16\">are</span><span style=\"color:#000000;font-weight:lighter\">/Pd.?sc.|f-----/en</span> <div style=\"margin-left:20px;color:#268bd2\"><span style=\"color:#268bd2\">\n",
       "\n",
       "</span><span style=\"color:#000000;font-weight:lighter\">/C/en</span> <div style=\"margin-left:20px;color:#268bd2\"><span style=\"font-weight:bold\">(</span><span style=\"color:#dc322f\"><span style=\"color:#dc322f\">other</span><span style=\"color:#000000;font-weight:lighter\">/Ma/en</span> <span style=\"color:#268bd2\"><span style=\"color:#268bd2\">people</span><span style=\"color:#000000;font-weight:lighter\">/Cc.p/en</span><span style=\"color:#268bd2\"><span style=\"font-weight:bold\">)</span></span></div> <div style=\"margin-left:20px;color:#268bd2\"><span style=\"color:#268bd2\">old</span><span style=\"color:#000000;font-weight:lighter\">/Ca/en</span><span style=\"color:#303030\"><span style=\"font-weight:bold\">)</span></span></div> <div style=\"margin-left:20px;color:#303030\"><span style=\"font-weight:bold\">(</span><span style=\"color:#cb4b16\"><span style=\"color:#cb4b16\">are</span><span style=\"color:#000000;font-weight:lighter\">/Pd.sc.|f-----/en</span> <div style=\"margin-left:20px;color:#268bd2\"><span style=\"color:#268bd2\">they</span><span style=\"color:#000000;font-weight:lighter\">/Ci/en</span> <div style=\"margin-left:20px;color:#303030\"><span style=\"font-weight:bold\">(</span><span style=\"color:#cb4b16\"><span style=\"font-weight:bold\">(</span><span style=\"color:#dc322f\"><span style=\"color:#dc322f\">to</span><span style=\"color:#000000;font-weight:lighter\">/Mi/en</span> <span style=\"color:#cb4b16\"><span style=\"color:#cb4b16\">speak</span><span style=\"color:#000000;font-weight:lighter\">/P.c.-i-----/en</span><span style=\"color:#cb4b16\"><span style=\"font-weight:bold\">)</span></span></span> <span style=\"color:#268bd2\"><span style=\"color:#268bd2\">unable</span><span style=\"color:#000000;font-weight:lighter\">/Ca/en</span><span style=\"color:#303030\"><span style=\"font-weight:bold\">)</span></span><span style=\"color:#303030\"><span style=\"font-weight:bold\">)</span></span><span style=\"color:#303030\"><span style=\"font-weight:bold\">)</span></span></div></div></span>"
      ],
      "text/plain": [
       "<IPython.core.display.HTML object>"
      ]
     },
     "metadata": {},
     "output_type": "display_data"
    },
    {
     "data": {
      "text/html": [
       "<span style=\"color:#303030\"><span style=\"font-weight:bold\">(</span><span style=\"color:#cb4b16\"><span style=\"color:#cb4b16\">have</span><span style=\"color:#000000;font-weight:lighter\">/Pd.rso?.|f-----/en</span> <div style=\"margin-left:20px;color:#303030\"><span style=\"font-weight:bold\">(</span><span style=\"color:#cb4b16\"><span style=\"font-weight:bold\">(</span><span style=\"color:#dc322f\"><span style=\"color:#dc322f\">not</span><span style=\"color:#000000;font-weight:lighter\">/Mn/en</span> <span style=\"color:#cb4b16\"><span style=\"color:#cb4b16\">are</span><span style=\"color:#000000;font-weight:lighter\">/P.?sc.|f-----/en</span><span style=\"color:#cb4b16\"><span style=\"font-weight:bold\">)</span></span></span> <div style=\"margin-left:20px;color:#268bd2\"><span style=\"color:#268bd2\">%20</span><span style=\"color:#000000;font-weight:lighter\">/C/en</span> <div style=\"margin-left:20px;color:#268bd2\"><span style=\"font-weight:bold\">(</span><span style=\"color:#dc322f\"><span style=\"color:#dc322f\">these</span><span style=\"color:#000000;font-weight:lighter\">/Md/en</span> <span style=\"color:#268bd2\"><span style=\"color:#268bd2\">people</span><span style=\"color:#000000;font-weight:lighter\">/Cc.p/en</span><span style=\"color:#268bd2\"><span style=\"font-weight:bold\">)</span></span></div> <div style=\"margin-left:20px;color:#268bd2\"><span style=\"font-weight:bold\">(</span><span style=\"color:#dc322f\"><span style=\"color:#dc322f\">too</span><span style=\"color:#000000;font-weight:lighter\">/M/en</span> <span style=\"color:#268bd2\"><span style=\"color:#268bd2\">little</span><span style=\"color:#000000;font-weight:lighter\">/Ca/en</span><span style=\"color:#268bd2\"><span style=\"font-weight:bold\">)</span></span><span style=\"color:#303030\"><span style=\"font-weight:bold\">)</span></span></div></div> <div style=\"margin-left:20px;color:#268bd2\"><span style=\"color:#268bd2\">they</span><span style=\"color:#000000;font-weight:lighter\">/Ci/en</span> <div style=\"margin-left:20px;color:#268bd2\"><span style=\"font-weight:bold\">(</span><span style=\"color:#dc322f\"><span style=\"color:#dc322f\">a</span><span style=\"color:#000000;font-weight:lighter\">/Md/en</span> <span style=\"color:#268bd2\"><span style=\"color:#268bd2\">life</span><span style=\"color:#000000;font-weight:lighter\">/Cc.s/en</span><span style=\"color:#268bd2\"><span style=\"font-weight:bold\">)</span></span></div> <div style=\"margin-left:20px;color:#303030\"><span style=\"font-weight:bold\">(</span><span style=\"color:#cb4b16\"><span style=\"font-weight:bold\">(</span><span style=\"color:#dc322f\"><span style=\"font-weight:bold\">(</span><span style=\"color:#dc322f\"><span style=\"color:#dc322f\">long</span><span style=\"color:#000000;font-weight:lighter\">/M/en</span> <span style=\"color:#dc322f\"><span style=\"color:#dc322f\">enough</span><span style=\"color:#000000;font-weight:lighter\">/M/en</span><span style=\"color:#dc322f\"><span style=\"font-weight:bold\">)</span></span></span> <span style=\"color:#cb4b16\"><span style=\"font-weight:bold\">(</span><span style=\"color:#dc322f\"><span style=\"color:#dc322f\">to</span><span style=\"color:#000000;font-weight:lighter\">/Mi/en</span> <span style=\"color:#cb4b16\"><span style=\"color:#cb4b16\">learn</span><span style=\"color:#000000;font-weight:lighter\">/P.r.-i-----/en</span><span style=\"color:#cb4b16\"><span style=\"font-weight:bold\">)</span></span><span style=\"color:#cb4b16\"><span style=\"font-weight:bold\">)</span></span></span></span> <span style=\"color:#303030\"><span style=\"font-weight:bold\">(</span><span style=\"color:#cb4b16\"><span style=\"font-weight:bold\">(</span><span style=\"color:#dc322f\"><span style=\"color:#dc322f\">to</span><span style=\"color:#000000;font-weight:lighter\">/Mi/en</span> <span style=\"color:#cb4b16\"><span style=\"color:#cb4b16\">say</span><span style=\"color:#000000;font-weight:lighter\">/P.o.-i-----/en</span><span style=\"color:#cb4b16\"><span style=\"font-weight:bold\">)</span></span></span> <span style=\"color:#268bd2\"><span style=\"color:#268bd2\">things</span><span style=\"color:#000000;font-weight:lighter\">/Cc.p/en</span><span style=\"color:#303030\"><span style=\"font-weight:bold\">)</span></span><span style=\"color:#303030\"><span style=\"font-weight:bold\">)</span></span><span style=\"color:#303030\"><span style=\"font-weight:bold\">)</span></span></span></div></span>"
      ],
      "text/plain": [
       "<IPython.core.display.HTML object>"
      ]
     },
     "metadata": {},
     "output_type": "display_data"
    },
    {
     "data": {
      "text/html": [
       "<span style=\"color:#303030\"><span style=\"font-weight:bold\">(</span><span style=\"color:#cb4b16\"><span style=\"font-weight:bold\">(</span><span style=\"color:#dc322f\"><span style=\"color:#dc322f\">but</span><span style=\"color:#000000;font-weight:lighter\">/Mj/en</span> <span style=\"color:#cb4b16\"><span style=\"color:#cb4b16\">are</span><span style=\"color:#000000;font-weight:lighter\">/Pd.sc.|f-----/en</span><span style=\"color:#cb4b16\"><span style=\"font-weight:bold\">)</span></span></span> <div style=\"margin-left:20px;color:#268bd2\"><span style=\"color:#268bd2\">they</span><span style=\"color:#000000;font-weight:lighter\">/Ci/en</span> <div style=\"margin-left:20px;color:#268bd2\"><span style=\"color:#268bd2\">mute</span><span style=\"color:#000000;font-weight:lighter\">/Ca/en</span><span style=\"color:#303030\"><span style=\"font-weight:bold\">)</span></span></span>"
      ],
      "text/plain": [
       "<IPython.core.display.HTML object>"
      ]
     },
     "metadata": {},
     "output_type": "display_data"
    },
    {
     "data": {
      "text/html": [
       "<span style=\"color:#303030\"><span style=\"font-weight:bold\">(</span><span style=\"color:#cb4b16\"><span style=\"color:#cb4b16\">study</span><span style=\"color:#000000;font-weight:lighter\">/Pd.sox.|f-----/en</span> <div style=\"margin-left:20px;color:#268bd2\"><span style=\"font-weight:bold\">(</span><span style=\"color:#dc322f\"><span style=\"color:#dc322f\">these</span><span style=\"color:#000000;font-weight:lighter\">/Md/en</span> <span style=\"color:#268bd2\"><span style=\"color:#268bd2\">people</span><span style=\"color:#000000;font-weight:lighter\">/Cc.p/en</span><span style=\"color:#268bd2\"><span style=\"font-weight:bold\">)</span></span></div> <div style=\"margin-left:20px;color:#268bd2\"><span style=\"font-weight:bold\">(</span><span style=\"color:#dc322f\"><span style=\"color:#dc322f\">another</span><span style=\"color:#000000;font-weight:lighter\">/Md/en</span> <span style=\"color:#268bd2\"><span style=\"color:#268bd2\">manner</span><span style=\"color:#000000;font-weight:lighter\">/Cc.s/en</span><span style=\"color:#268bd2\"><span style=\"font-weight:bold\">)</span></span></div> <div style=\"margin-left:20px;color:#303030\"><span style=\"font-weight:bold\">(</span><span style=\"color:#cb4b16\"><span style=\"font-weight:bold\">(</span><span style=\"color:#dc322f\"><span style=\"color:#dc322f\">to</span><span style=\"color:#000000;font-weight:lighter\">/Mi/en</span> <span style=\"color:#cb4b16\"><span style=\"color:#cb4b16\">tell</span><span style=\"color:#000000;font-weight:lighter\">/Pd.o.-i-----/en</span><span style=\"color:#cb4b16\"><span style=\"font-weight:bold\">)</span></span></span> <span style=\"color:#268bd2\"><span style=\"font-weight:bold\">(</span><span style=\"color:#dc322f\"><span style=\"color:#dc322f\">their</span><span style=\"color:#000000;font-weight:lighter\">/Mp/en</span> <span style=\"color:#268bd2\"><span style=\"color:#268bd2\">words</span><span style=\"color:#000000;font-weight:lighter\">/Cc.p/en</span><span style=\"color:#268bd2\"><span style=\"font-weight:bold\">)</span></span><span style=\"color:#303030\"><span style=\"font-weight:bold\">)</span></span><span style=\"color:#303030\"><span style=\"font-weight:bold\">)</span></span></span></div></span>"
      ],
      "text/plain": [
       "<IPython.core.display.HTML object>"
      ]
     },
     "metadata": {},
     "output_type": "display_data"
    },
    {
     "data": {
      "text/html": [
       "<span style=\"color:#303030\"><span style=\"font-weight:bold\">(</span><span style=\"color:#cb4b16\"><span style=\"color:#cb4b16\">study</span><span style=\"color:#000000;font-weight:lighter\">/Pd.sox.|f-----/en</span> <div style=\"margin-left:20px;color:#268bd2\"><span style=\"color:#268bd2\">they</span><span style=\"color:#000000;font-weight:lighter\">/Ci/en</span> <div style=\"margin-left:20px;color:#268bd2\"><span style=\"font-weight:bold\">(</span><span style=\"color:#dc322f\"><span style=\"color:#dc322f\">other</span><span style=\"color:#000000;font-weight:lighter\">/Ma/en</span> <span style=\"color:#268bd2\"><span style=\"color:#268bd2\">manners</span><span style=\"color:#000000;font-weight:lighter\">/Cc.p/en</span><span style=\"color:#268bd2\"><span style=\"font-weight:bold\">)</span></span></div> <div style=\"margin-left:20px;color:#303030\"><span style=\"font-weight:bold\">(</span><span style=\"color:#cb4b16\"><span style=\"font-weight:bold\">(</span><span style=\"color:#dc322f\"><span style=\"color:#dc322f\">to</span><span style=\"color:#000000;font-weight:lighter\">/Mi/en</span> <span style=\"color:#cb4b16\"><span style=\"color:#cb4b16\">tell</span><span style=\"color:#000000;font-weight:lighter\">/Pd.or.-i-----/en</span><span style=\"color:#cb4b16\"><span style=\"font-weight:bold\">)</span></span></span> <div style=\"margin-left:20px;color:#268bd2\"><span style=\"color:#268bd2\">what</span><span style=\"color:#000000;font-weight:lighter\">/Cw/en</span> <div style=\"margin-left:20px;color:#303030\"><span style=\"font-weight:bold\">(</span><span style=\"color:#cb4b16\"><span style=\"color:#cb4b16\">want</span><span style=\"color:#000000;font-weight:lighter\">/P.sr.|f-----/en</span> <div style=\"margin-left:20px;color:#268bd2\"><span style=\"color:#268bd2\">they</span><span style=\"color:#000000;font-weight:lighter\">/Ci/en</span> <div style=\"margin-left:20px;color:#303030\"><span style=\"font-weight:bold\">(</span><span style=\"color:#cb4b16\"><span style=\"font-weight:bold\">(</span><span style=\"color:#dc322f\"><span style=\"color:#dc322f\">to</span><span style=\"color:#000000;font-weight:lighter\">/Mi/en</span> <span style=\"color:#cb4b16\"><span style=\"color:#cb4b16\">say</span><span style=\"color:#000000;font-weight:lighter\">/P.x.-i-----/en</span><span style=\"color:#cb4b16\"><span style=\"font-weight:bold\">)</span></span></span> <span style=\"color:#6c71c4\"><span style=\"font-weight:bold\">(</span><span style=\"color:#d33682\"><span style=\"color:#d33682\">to</span><span style=\"color:#000000;font-weight:lighter\">/T/en</span> <span style=\"color:#268bd2\"><span style=\"color:#268bd2\">somebody</span><span style=\"color:#000000;font-weight:lighter\">/Cc.s/en</span><span style=\"color:#6c71c4\"><span style=\"font-weight:bold\">)</span></span><span style=\"color:#303030\"><span style=\"font-weight:bold\">)</span></span><span style=\"color:#303030\"><span style=\"font-weight:bold\">)</span></span><span style=\"color:#303030\"><span style=\"font-weight:bold\">)</span></span><span style=\"color:#303030\"><span style=\"font-weight:bold\">)</span></span></span></div></div></div></span>"
      ],
      "text/plain": [
       "<IPython.core.display.HTML object>"
      ]
     },
     "metadata": {},
     "output_type": "display_data"
    },
    {
     "data": {
      "text/html": [
       "<span style=\"color:#303030\"><span style=\"font-weight:bold\">(</span><span style=\"color:#cb4b16\"><span style=\"font-weight:bold\">(</span><span style=\"color:#dc322f\"><span style=\"color:#dc322f\">really</span><span style=\"color:#000000;font-weight:lighter\">/M/en</span> <span style=\"color:#cb4b16\"><span style=\"color:#cb4b16\">understand</span><span style=\"color:#000000;font-weight:lighter\">/Pd.so.|f-----/en</span><span style=\"color:#cb4b16\"><span style=\"font-weight:bold\">)</span></span></span> <div style=\"margin-left:20px;color:#268bd2\"><span style=\"color:#268bd2\">they</span><span style=\"color:#000000;font-weight:lighter\">/Ci/en</span> <div style=\"margin-left:20px;color:#268bd2\"><span style=\"font-weight:bold\">(</span><span style=\"color:#b58900\"><span style=\"color:#b58900\">about</span><span style=\"color:#000000;font-weight:lighter\">/Jr.ma/en</span> <div style=\"margin-left:20px;color:#268bd2\"><span style=\"font-weight:bold\">(</span><span style=\"color:#dc322f\"><span style=\"color:#dc322f\">a</span><span style=\"color:#000000;font-weight:lighter\">/Md/en</span> <span style=\"color:#268bd2\"><span style=\"color:#268bd2\">lot</span><span style=\"color:#000000;font-weight:lighter\">/Cc.s/en</span><span style=\"color:#268bd2\"><span style=\"font-weight:bold\">)</span></span></div> <div style=\"margin-left:20px;color:#303030\"><span style=\"font-weight:bold\">(</span><span style=\"color:#cb4b16\"><span style=\"font-weight:bold\">(</span><span style=\"color:#dc322f\"><span style=\"color:#dc322f\">how</span><span style=\"color:#000000;font-weight:lighter\">/M/en</span> <span style=\"color:#cb4b16\"><span style=\"font-weight:bold\">(</span><span style=\"color:#dc322f\"><span style=\"color:#dc322f\">to</span><span style=\"color:#000000;font-weight:lighter\">/Mi/en</span> <span style=\"color:#cb4b16\"><span style=\"color:#cb4b16\">have</span><span style=\"color:#000000;font-weight:lighter\">/P.o.-i-----/en</span><span style=\"color:#cb4b16\"><span style=\"font-weight:bold\">)</span></span><span style=\"color:#cb4b16\"><span style=\"font-weight:bold\">)</span></span></span></span> <span style=\"color:#268bd2\"><span style=\"color:#268bd2\">conversations</span><span style=\"color:#000000;font-weight:lighter\">/Cc.p/en</span><span style=\"color:#303030\"><span style=\"font-weight:bold\">)</span></span><span style=\"color:#268bd2\"><span style=\"font-weight:bold\">)</span></span><span style=\"color:#303030\"><span style=\"font-weight:bold\">)</span></span></div></div></span>"
      ],
      "text/plain": [
       "<IPython.core.display.HTML object>"
      ]
     },
     "metadata": {},
     "output_type": "display_data"
    },
    {
     "data": {
      "text/html": [
       "<span style=\"color:#303030\"><span style=\"font-weight:bold\">(</span><span style=\"color:#cb4b16\"><span style=\"font-weight:bold\">(</span><span style=\"color:#dc322f\"><span style=\"color:#dc322f\">can</span><span style=\"color:#000000;font-weight:lighter\">/Mm/en</span> <span style=\"color:#cb4b16\"><span style=\"color:#cb4b16\">ask</span><span style=\"color:#000000;font-weight:lighter\">/Pd.xso.-i-----/en</span><span style=\"color:#cb4b16\"><span style=\"font-weight:bold\">)</span></span></span> <div style=\"margin-left:20px;color:#6c71c4\"><span style=\"font-weight:bold\">(</span><span style=\"color:#d33682\"><span style=\"color:#d33682\">when</span><span style=\"color:#000000;font-weight:lighter\">/T/en</span> <span style=\"color:#303030\"><span style=\"font-weight:bold\">(</span><span style=\"color:#cb4b16\"><span style=\"font-weight:bold\">(</span><span style=\"color:#dc322f\"><span style=\"color:#dc322f\">do</span><span style=\"color:#000000;font-weight:lighter\">/Mv.|f-----/en</span> <span style=\"color:#cb4b16\"><span style=\"font-weight:bold\">(</span><span style=\"color:#dc322f\"><span style=\"color:#dc322f\">n&#x27;t</span><span style=\"color:#000000;font-weight:lighter\">/Mn/en</span> <span style=\"color:#cb4b16\"><span style=\"color:#cb4b16\">know</span><span style=\"color:#000000;font-weight:lighter\">/Pd.so.-i-----/en</span><span style=\"color:#cb4b16\"><span style=\"font-weight:bold\">)</span></span><span style=\"color:#cb4b16\"><span style=\"font-weight:bold\">)</span></span></span></span> <div style=\"margin-left:20px;color:#268bd2\"><span style=\"color:#268bd2\">they</span><span style=\"color:#000000;font-weight:lighter\">/Ci/en</span> <div style=\"margin-left:20px;color:#268bd2\"><span style=\"color:#268bd2\">something</span><span style=\"color:#000000;font-weight:lighter\">/Cc.s/en</span><span style=\"color:#303030\"><span style=\"font-weight:bold\">)</span></span><span style=\"color:#6c71c4\"><span style=\"font-weight:bold\">)</span></span></span></div> <div style=\"margin-left:20px;color:#268bd2\"><span style=\"color:#268bd2\">they</span><span style=\"color:#000000;font-weight:lighter\">/Ci/en</span> <div style=\"margin-left:20px;color:#268bd2\"><span style=\"color:#268bd2\">questions</span><span style=\"color:#000000;font-weight:lighter\">/Cc.p/en</span><span style=\"color:#303030\"><span style=\"font-weight:bold\">)</span></span></span>"
      ],
      "text/plain": [
       "<IPython.core.display.HTML object>"
      ]
     },
     "metadata": {},
     "output_type": "display_data"
    },
    {
     "data": {
      "text/html": [
       "<span style=\"color:#303030\"><span style=\"font-weight:bold\">(</span><span style=\"color:#cb4b16\"><span style=\"font-weight:bold\">(</span><span style=\"color:#dc322f\"><span style=\"color:#dc322f\">and</span><span style=\"color:#000000;font-weight:lighter\">/Mj/en</span> <span style=\"color:#cb4b16\"><span style=\"font-weight:bold\">(</span><span style=\"color:#dc322f\"><span style=\"color:#dc322f\">can</span><span style=\"color:#000000;font-weight:lighter\">/Mm/en</span> <span style=\"color:#cb4b16\"><span style=\"color:#cb4b16\">tell</span><span style=\"color:#000000;font-weight:lighter\">/Pd.xsr.-i-----/en</span><span style=\"color:#cb4b16\"><span style=\"font-weight:bold\">)</span></span><span style=\"color:#cb4b16\"><span style=\"font-weight:bold\">)</span></span></span></span> <div style=\"margin-left:20px;color:#6c71c4\"><span style=\"font-weight:bold\">(</span><span style=\"color:#d33682\"><span style=\"color:#d33682\">after</span><span style=\"color:#000000;font-weight:lighter\">/T/en</span> <span style=\"color:#303030\"><span style=\"font-weight:bold\">(</span><span style=\"color:#cb4b16\"><span style=\"color:#cb4b16\">hear</span><span style=\"color:#000000;font-weight:lighter\">/Pd.so.|f-----/en</span> <div style=\"margin-left:20px;color:#268bd2\"><span style=\"color:#268bd2\">they</span><span style=\"color:#000000;font-weight:lighter\">/Ci/en</span> <div style=\"margin-left:20px;color:#268bd2\"><span style=\"font-weight:bold\">(</span><span style=\"color:#dc322f\"><span style=\"color:#dc322f\">an</span><span style=\"color:#000000;font-weight:lighter\">/Md/en</span> <span style=\"color:#268bd2\"><span style=\"color:#268bd2\">answer</span><span style=\"color:#000000;font-weight:lighter\">/Cc.s/en</span><span style=\"color:#268bd2\"><span style=\"font-weight:bold\">)</span></span><span style=\"color:#303030\"><span style=\"font-weight:bold\">)</span></span><span style=\"color:#6c71c4\"><span style=\"font-weight:bold\">)</span></span></div></span></div> <div style=\"margin-left:20px;color:#268bd2\"><span style=\"color:#268bd2\">they</span><span style=\"color:#000000;font-weight:lighter\">/Ci/en</span> <div style=\"margin-left:20px;color:#303030\"><span style=\"font-weight:bold\">(</span><span style=\"color:#cb4b16\"><span style=\"color:#cb4b16\">think</span><span style=\"color:#000000;font-weight:lighter\">/P.osx.|f-----/en</span> <div style=\"margin-left:20px;color:#268bd2\"><span style=\"color:#268bd2\">what</span><span style=\"color:#000000;font-weight:lighter\">/Cw/en</span> <div style=\"margin-left:20px;color:#268bd2\"><span style=\"color:#268bd2\">they</span><span style=\"color:#000000;font-weight:lighter\">/Ci/en</span> <div style=\"margin-left:20px;color:#6c71c4\"><span style=\"font-weight:bold\">(</span><span style=\"color:#d33682\"><span style=\"color:#d33682\">about</span><span style=\"color:#000000;font-weight:lighter\">/T/en</span> <span style=\"color:#268bd2\"><span style=\"font-weight:bold\">(</span><span style=\"color:#dc322f\"><span style=\"color:#dc322f\">the</span><span style=\"color:#000000;font-weight:lighter\">/Md/en</span> <span style=\"color:#268bd2\"><span style=\"color:#268bd2\">answer</span><span style=\"color:#000000;font-weight:lighter\">/Cc.s/en</span><span style=\"color:#268bd2\"><span style=\"font-weight:bold\">)</span></span><span style=\"color:#6c71c4\"><span style=\"font-weight:bold\">)</span></span><span style=\"color:#303030\"><span style=\"font-weight:bold\">)</span></span><span style=\"color:#303030\"><span style=\"font-weight:bold\">)</span></span></span></div></div></span>"
      ],
      "text/plain": [
       "<IPython.core.display.HTML object>"
      ]
     },
     "metadata": {},
     "output_type": "display_data"
    },
    {
     "data": {
      "text/html": [
       "<span style=\"color:#268bd2\"><span style=\"font-weight:bold\">(</span><span style=\"color:#b58900\"><span style=\"color:#b58900\">but</span><span style=\"color:#000000;font-weight:lighter\">/J/en</span> <div style=\"margin-left:20px;color:#268bd2\"><span style=\"color:#268bd2\">\n",
       "\n",
       "</span><span style=\"color:#000000;font-weight:lighter\">/C/en</span> <div style=\"margin-left:20px;color:#303030\"><span style=\"font-weight:bold\">(</span><span style=\"color:#cb4b16\"><span style=\"font-weight:bold\">(</span><span style=\"color:#dc322f\"><span style=\"color:#dc322f\">n&#x27;t</span><span style=\"color:#000000;font-weight:lighter\">/Mn/en</span> <span style=\"color:#cb4b16\"><span style=\"color:#cb4b16\">is</span><span style=\"color:#000000;font-weight:lighter\">/Pd.sx.|f--3s-/en</span><span style=\"color:#cb4b16\"><span style=\"font-weight:bold\">)</span></span></span> <div style=\"margin-left:20px;color:#268bd2\"><span style=\"font-weight:bold\">(</span><span style=\"color:#dc322f\"><span style=\"color:#dc322f\">this</span><span style=\"color:#000000;font-weight:lighter\">/Md/en</span> <span style=\"color:#268bd2\"><span style=\"color:#268bd2\">text</span><span style=\"color:#000000;font-weight:lighter\">/Cc.s/en</span><span style=\"color:#268bd2\"><span style=\"font-weight:bold\">)</span></span></div> <div style=\"margin-left:20px;color:#6c71c4\"><span style=\"font-weight:bold\">(</span><span style=\"color:#d33682\"><span style=\"color:#d33682\">about</span><span style=\"color:#000000;font-weight:lighter\">/T/en</span> <span style=\"color:#268bd2\"><span style=\"font-weight:bold\">(</span><span style=\"color:#dc322f\"><span style=\"color:#dc322f\">mute</span><span style=\"color:#000000;font-weight:lighter\">/Ma/en</span> <span style=\"color:#268bd2\"><span style=\"color:#268bd2\">people</span><span style=\"color:#000000;font-weight:lighter\">/Cc.p/en</span><span style=\"color:#268bd2\"><span style=\"font-weight:bold\">)</span></span><span style=\"color:#6c71c4\"><span style=\"font-weight:bold\">)</span></span><span style=\"color:#303030\"><span style=\"font-weight:bold\">)</span></span><span style=\"color:#268bd2\"><span style=\"font-weight:bold\">)</span></span></span></div></div></span>"
      ],
      "text/plain": [
       "<IPython.core.display.HTML object>"
      ]
     },
     "metadata": {},
     "output_type": "display_data"
    },
    {
     "data": {
      "text/html": [
       "<span style=\"color:#303030\"><span style=\"font-weight:bold\">(</span><span style=\"color:#b58900\"><span style=\"color:#b58900\">:</span><span style=\"color:#000000;font-weight:lighter\">/J/.</span> <div style=\"margin-left:20px;color:#303030\"><span style=\"font-weight:bold\">(</span><span style=\"color:#cb4b16\"><span style=\"color:#cb4b16\">is</span><span style=\"color:#000000;font-weight:lighter\">/Pd.sc.|f--3s-/en</span> <div style=\"margin-left:20px;color:#268bd2\"><span style=\"color:#268bd2\">it</span><span style=\"color:#000000;font-weight:lighter\">/Ci/en</span> <div style=\"margin-left:20px;color:#268bd2\"><span style=\"font-weight:bold\">(</span><span style=\"color:#dc322f\"><span style=\"color:#dc322f\">a</span><span style=\"color:#000000;font-weight:lighter\">/Md/en</span> <span style=\"color:#268bd2\"><span style=\"color:#268bd2\">work</span><span style=\"color:#000000;font-weight:lighter\">/Cc.s/en</span><span style=\"color:#268bd2\"><span style=\"font-weight:bold\">)</span></span><span style=\"color:#303030\"><span style=\"font-weight:bold\">)</span></span></div></div> <div style=\"margin-left:20px;color:#303030\"><span style=\"font-weight:bold\">(</span><span style=\"color:#cb4b16\"><span style=\"font-weight:bold\">(</span><span style=\"color:#dc322f\"><span style=\"color:#dc322f\">to</span><span style=\"color:#000000;font-weight:lighter\">/Mi/en</span> <span style=\"color:#cb4b16\"><span style=\"color:#cb4b16\">help</span><span style=\"color:#000000;font-weight:lighter\">/P.r.-i-----/en</span><span style=\"color:#cb4b16\"><span style=\"font-weight:bold\">)</span></span></span> <span style=\"color:#303030\"><span style=\"font-weight:bold\">(</span><span style=\"color:#cb4b16\"><span style=\"font-weight:bold\">(</span><span style=\"color:#dc322f\"><span style=\"color:#dc322f\">to</span><span style=\"color:#000000;font-weight:lighter\">/Mi/en</span> <span style=\"color:#cb4b16\"><span style=\"color:#cb4b16\">study</span><span style=\"color:#000000;font-weight:lighter\">/P.s.-i-----/en</span><span style=\"color:#cb4b16\"><span style=\"font-weight:bold\">)</span></span></span> <span style=\"color:#268bd2\"><span style=\"color:#268bd2\">you</span><span style=\"color:#000000;font-weight:lighter\">/Ci/en</span><span style=\"color:#303030\"><span style=\"font-weight:bold\">)</span></span><span style=\"color:#303030\"><span style=\"font-weight:bold\">)</span></span><span style=\"color:#303030\"><span style=\"font-weight:bold\">)</span></span></span></div></span>"
      ],
      "text/plain": [
       "<IPython.core.display.HTML object>"
      ]
     },
     "metadata": {},
     "output_type": "display_data"
    },
    {
     "data": {
      "text/html": [
       "<span style=\"color:#303030\"><span style=\"font-weight:bold\">(</span><span style=\"color:#cb4b16\"><span style=\"color:#cb4b16\">is</span><span style=\"color:#000000;font-weight:lighter\">/Pd.sc.|f--3s-/en</span> <div style=\"margin-left:20px;color:#268bd2\"><span style=\"color:#268bd2\">that</span><span style=\"color:#000000;font-weight:lighter\">/Cd/en</span> <div style=\"margin-left:20px;color:#268bd2\"><span style=\"font-weight:bold\">(</span><span style=\"color:#dc322f\"><span style=\"color:#dc322f\">my</span><span style=\"color:#000000;font-weight:lighter\">/Mp/en</span> <span style=\"color:#268bd2\"><span style=\"color:#268bd2\">job</span><span style=\"color:#000000;font-weight:lighter\">/Cc.s/en</span><span style=\"color:#268bd2\"><span style=\"font-weight:bold\">)</span></span><span style=\"color:#303030\"><span style=\"font-weight:bold\">)</span></span></div></span>"
      ],
      "text/plain": [
       "<IPython.core.display.HTML object>"
      ]
     },
     "metadata": {},
     "output_type": "display_data"
    },
    {
     "data": {
      "text/html": [
       "<span style=\"color:#303030\"><span style=\"font-weight:bold\">(</span><span style=\"color:#cb4b16\"><span style=\"font-weight:bold\">(</span><span style=\"color:#dc322f\"><span style=\"color:#dc322f\">am</span><span style=\"color:#000000;font-weight:lighter\">/Mv.|f-----/en</span> <span style=\"color:#cb4b16\"><span style=\"color:#cb4b16\">writing</span><span style=\"color:#000000;font-weight:lighter\">/Pd.sox.|pg----/en</span><span style=\"color:#cb4b16\"><span style=\"font-weight:bold\">)</span></span></span> <div style=\"margin-left:20px;color:#268bd2\"><span style=\"color:#268bd2\">i</span><span style=\"color:#000000;font-weight:lighter\">/Ci/en</span> <div style=\"margin-left:20px;color:#268bd2\"><span style=\"font-weight:bold\">(</span><span style=\"color:#859900\"><span style=\"color:#859900\">+</span><span style=\"color:#000000;font-weight:lighter\">/B.mm/.</span> <span style=\"color:#268bd2\"><span style=\"color:#268bd2\">this</span><span style=\"color:#000000;font-weight:lighter\">/Cd/en</span> <span style=\"color:#268bd2\"><span style=\"color:#268bd2\">all</span><span style=\"color:#000000;font-weight:lighter\">/Cd/en</span><span style=\"color:#268bd2\"><span style=\"font-weight:bold\">)</span></span></div> <div style=\"margin-left:20px;color:#303030\"><span style=\"font-weight:bold\">(</span><span style=\"color:#cb4b16\"><span style=\"font-weight:bold\">(</span><span style=\"color:#dc322f\"><span style=\"color:#dc322f\">to</span><span style=\"color:#000000;font-weight:lighter\">/Mi/en</span> <span style=\"color:#cb4b16\"><span style=\"color:#cb4b16\">show</span><span style=\"color:#000000;font-weight:lighter\">/Pd.io.-i-----/en</span><span style=\"color:#cb4b16\"><span style=\"font-weight:bold\">)</span></span></span> <div style=\"margin-left:20px;color:#268bd2\"><span style=\"color:#268bd2\">you</span><span style=\"color:#000000;font-weight:lighter\">/Ci/en</span> <div style=\"margin-left:20px;color:#268bd2\"><span style=\"font-weight:bold\">(</span><span style=\"color:#859900\"><span style=\"color:#859900\">about</span><span style=\"color:#000000;font-weight:lighter\">/Br.ma/en</span> <div style=\"margin-left:20px;color:#268bd2\"><span style=\"font-weight:bold\">(</span><span style=\"color:#dc322f\"><span style=\"color:#dc322f\">some</span><span style=\"color:#000000;font-weight:lighter\">/Md/en</span> <span style=\"color:#268bd2\"><span style=\"color:#268bd2\">things</span><span style=\"color:#000000;font-weight:lighter\">/Cc.p/en</span><span style=\"color:#268bd2\"><span style=\"font-weight:bold\">)</span></span></div> <div style=\"margin-left:20px;color:#268bd2\"><span style=\"font-weight:bold\">(</span><span style=\"color:#b58900\"><span style=\"color:#b58900\">,</span><span style=\"color:#000000;font-weight:lighter\">/J/en</span> <div style=\"margin-left:20px;color:#268bd2\"><span style=\"color:#268bd2\">grammar</span><span style=\"color:#000000;font-weight:lighter\">/Cc.s/en</span> <div style=\"margin-left:20px;color:#268bd2\"><span style=\"font-weight:bold\">(</span><span style=\"color:#b58900\"><span style=\"color:#b58900\">,</span><span style=\"color:#000000;font-weight:lighter\">/J/en</span> <div style=\"margin-left:20px;color:#268bd2\"><span style=\"color:#268bd2\">writing</span><span style=\"color:#000000;font-weight:lighter\">/Cc.s/en</span> <div style=\"margin-left:20px;color:#268bd2\"><span style=\"font-weight:bold\">(</span><span style=\"color:#b58900\"><span style=\"color:#b58900\">and</span><span style=\"color:#000000;font-weight:lighter\">/J/en</span> <div style=\"margin-left:20px;color:#268bd2\"><span style=\"color:#268bd2\">sentences</span><span style=\"color:#000000;font-weight:lighter\">/Cc.p/en</span> <div style=\"margin-left:20px;color:#268bd2\"><span style=\"font-weight:bold\">(</span><span style=\"color:#dc322f\"><span style=\"color:#dc322f\">how</span><span style=\"color:#000000;font-weight:lighter\">/M/en</span> <span style=\"color:#268bd2\"><span style=\"font-weight:bold\">(</span><span style=\"color:#dc322f\"><span style=\"color:#dc322f\">to</span><span style=\"color:#000000;font-weight:lighter\">/Mi/en</span> <span style=\"color:#268bd2\"><span style=\"font-weight:bold\">(</span><span style=\"color:#859900\"><span style=\"color:#859900\">+</span><span style=\"color:#000000;font-weight:lighter\">/B.mm/.</span> <div style=\"margin-left:20px;color:#268bd2\"><span style=\"color:#268bd2\">have</span><span style=\"color:#000000;font-weight:lighter\">/C/en</span> <div style=\"margin-left:20px;color:#268bd2\"><span style=\"font-weight:bold\">(</span><span style=\"color:#859900\"><span style=\"color:#859900\">in</span><span style=\"color:#000000;font-weight:lighter\">/Br.ma/en</span> <div style=\"margin-left:20px;color:#268bd2\"><span style=\"font-weight:bold\">(</span><span style=\"color:#dc322f\"><span style=\"color:#dc322f\">better</span><span style=\"color:#000000;font-weight:lighter\">/Mc/en</span> <span style=\"color:#268bd2\"><span style=\"color:#268bd2\">conversations</span><span style=\"color:#000000;font-weight:lighter\">/Cc.p/en</span><span style=\"color:#268bd2\"><span style=\"font-weight:bold\">)</span></span></div> <div style=\"margin-left:20px;color:#268bd2\"><span style=\"color:#268bd2\">english</span><span style=\"color:#000000;font-weight:lighter\">/Cp.s/en</span><span style=\"color:#268bd2\"><span style=\"font-weight:bold\">)</span></span><span style=\"color:#268bd2\"><span style=\"font-weight:bold\">)</span></span><span style=\"color:#268bd2\"><span style=\"font-weight:bold\">)</span></span><span style=\"color:#268bd2\"><span style=\"font-weight:bold\">)</span></span><span style=\"color:#268bd2\"><span style=\"font-weight:bold\">)</span></span><span style=\"color:#268bd2\"><span style=\"font-weight:bold\">)</span></span><span style=\"color:#268bd2\"><span style=\"font-weight:bold\">)</span></span><span style=\"color:#268bd2\"><span style=\"font-weight:bold\">)</span></span><span style=\"color:#303030\"><span style=\"font-weight:bold\">)</span></span><span style=\"color:#303030\"><span style=\"font-weight:bold\">)</span></span></div></span></span></div></div></div></div></div></div></span>"
      ],
      "text/plain": [
       "<IPython.core.display.HTML object>"
      ]
     },
     "metadata": {},
     "output_type": "display_data"
    },
    {
     "data": {
      "text/html": [
       "<span style=\"color:#303030\"><span style=\"font-weight:bold\">(</span><span style=\"color:#cb4b16\"><span style=\"color:#cb4b16\">is</span><span style=\"color:#000000;font-weight:lighter\">/Pd.sc.|f--3s-/en</span> <div style=\"margin-left:20px;color:#268bd2\"><span style=\"color:#268bd2\">this</span><span style=\"color:#000000;font-weight:lighter\">/Cd/en</span> <div style=\"margin-left:20px;color:#268bd2\"><span style=\"font-weight:bold\">(</span><span style=\"color:#dc322f\"><span style=\"color:#dc322f\">a</span><span style=\"color:#000000;font-weight:lighter\">/Md/en</span> <span style=\"color:#268bd2\"><span style=\"font-weight:bold\">(</span><span style=\"color:#dc322f\"><span style=\"color:#dc322f\">simple</span><span style=\"color:#000000;font-weight:lighter\">/Ma/en</span> <span style=\"color:#268bd2\"><span style=\"color:#268bd2\">text</span><span style=\"color:#000000;font-weight:lighter\">/Cc.s/en</span><span style=\"color:#268bd2\"><span style=\"font-weight:bold\">)</span></span><span style=\"color:#268bd2\"><span style=\"font-weight:bold\">)</span></span><span style=\"color:#303030\"><span style=\"font-weight:bold\">)</span></span></span></div></span>"
      ],
      "text/plain": [
       "<IPython.core.display.HTML object>"
      ]
     },
     "metadata": {},
     "output_type": "display_data"
    },
    {
     "data": {
      "text/html": [
       "<span style=\"color:#303030\"><span style=\"font-weight:bold\">(</span><span style=\"color:#cb4b16\"><span style=\"font-weight:bold\">(</span><span style=\"color:#dc322f\"><span style=\"color:#dc322f\">here</span><span style=\"color:#000000;font-weight:lighter\">/M/en</span> <span style=\"color:#cb4b16\"><span style=\"font-weight:bold\">(</span><span style=\"color:#dc322f\"><span style=\"color:#dc322f\">do</span><span style=\"color:#000000;font-weight:lighter\">/Mv.|f-----/en</span> <span style=\"color:#cb4b16\"><span style=\"font-weight:bold\">(</span><span style=\"color:#dc322f\"><span style=\"color:#dc322f\">n&#x27;t</span><span style=\"color:#000000;font-weight:lighter\">/Mn/en</span> <span style=\"color:#cb4b16\"><span style=\"color:#cb4b16\">see</span><span style=\"color:#000000;font-weight:lighter\">/Pd.so.-i-----/en</span><span style=\"color:#cb4b16\"><span style=\"font-weight:bold\">)</span></span><span style=\"color:#cb4b16\"><span style=\"font-weight:bold\">)</span></span><span style=\"color:#cb4b16\"><span style=\"font-weight:bold\">)</span></span></span></span></span> <div style=\"margin-left:20px;color:#268bd2\"><span style=\"color:#268bd2\">you</span><span style=\"color:#000000;font-weight:lighter\">/Ci/en</span> <div style=\"margin-left:20px;color:#268bd2\"><span style=\"font-weight:bold\">(</span><span style=\"color:#dc322f\"><span style=\"font-weight:bold\">(</span><span style=\"color:#dc322f\"><span style=\"color:#dc322f\">so</span><span style=\"color:#000000;font-weight:lighter\">/M/en</span> <span style=\"color:#dc322f\"><span style=\"color:#dc322f\">many</span><span style=\"color:#000000;font-weight:lighter\">/Ma/en</span><span style=\"color:#dc322f\"><span style=\"font-weight:bold\">)</span></span></span> <span style=\"color:#268bd2\"><span style=\"color:#268bd2\">things</span><span style=\"color:#000000;font-weight:lighter\">/Cc.p/en</span><span style=\"color:#268bd2\"><span style=\"font-weight:bold\">)</span></span><span style=\"color:#303030\"><span style=\"font-weight:bold\">)</span></span></div></span>"
      ],
      "text/plain": [
       "<IPython.core.display.HTML object>"
      ]
     },
     "metadata": {},
     "output_type": "display_data"
    },
    {
     "data": {
      "text/html": [
       "<span style=\"color:#303030\"><span style=\"font-weight:bold\">(</span><span style=\"color:#b58900\"><span style=\"color:#b58900\">and</span><span style=\"color:#000000;font-weight:lighter\">/J/en</span> <div style=\"margin-left:20px;color:#303030\"><span style=\"font-weight:bold\">(</span><span style=\"color:#cb4b16\"><span style=\"font-weight:bold\">(</span><span style=\"color:#dc322f\"><span style=\"color:#dc322f\">can</span><span style=\"color:#000000;font-weight:lighter\">/Mm/en</span> <span style=\"color:#cb4b16\"><span style=\"color:#cb4b16\">look</span><span style=\"color:#000000;font-weight:lighter\">/Pd.sx.-i-----/en</span><span style=\"color:#cb4b16\"><span style=\"font-weight:bold\">)</span></span></span> <div style=\"margin-left:20px;color:#268bd2\"><span style=\"color:#268bd2\">you</span><span style=\"color:#000000;font-weight:lighter\">/Ci/en</span> <div style=\"margin-left:20px;color:#6c71c4\"><span style=\"font-weight:bold\">(</span><span style=\"color:#d33682\"><span style=\"color:#d33682\">inside</span><span style=\"color:#000000;font-weight:lighter\">/T/en</span> <span style=\"color:#268bd2\"><span style=\"font-weight:bold\">(</span><span style=\"color:#dc322f\"><span style=\"color:#dc322f\">all</span><span style=\"color:#000000;font-weight:lighter\">/M/en</span> <span style=\"color:#268bd2\"><span style=\"font-weight:bold\">(</span><span style=\"color:#dc322f\"><span style=\"color:#dc322f\">these</span><span style=\"color:#000000;font-weight:lighter\">/Md/en</span> <span style=\"color:#268bd2\"><span style=\"color:#268bd2\">sentences</span><span style=\"color:#000000;font-weight:lighter\">/Cc.p/en</span><span style=\"color:#268bd2\"><span style=\"font-weight:bold\">)</span></span><span style=\"color:#268bd2\"><span style=\"font-weight:bold\">)</span></span><span style=\"color:#6c71c4\"><span style=\"font-weight:bold\">)</span></span><span style=\"color:#303030\"><span style=\"font-weight:bold\">)</span></span></span></span></div></div> <div style=\"margin-left:20px;color:#303030\"><span style=\"font-weight:bold\">(</span><span style=\"color:#cb4b16\"><span style=\"font-weight:bold\">(</span><span style=\"color:#dc322f\"><span style=\"color:#dc322f\">do</span><span style=\"color:#000000;font-weight:lighter\">/Mv.|f-----/en</span> <span style=\"color:#cb4b16\"><span style=\"font-weight:bold\">(</span><span style=\"color:#dc322f\"><span style=\"color:#dc322f\">not</span><span style=\"color:#000000;font-weight:lighter\">/Mn/en</span> <span style=\"color:#cb4b16\"><span style=\"color:#cb4b16\">face</span><span style=\"color:#000000;font-weight:lighter\">/Pd.so.-i-----/en</span><span style=\"color:#cb4b16\"><span style=\"font-weight:bold\">)</span></span><span style=\"color:#cb4b16\"><span style=\"font-weight:bold\">)</span></span></span></span> <div style=\"margin-left:20px;color:#268bd2\"><span style=\"color:#268bd2\">you</span><span style=\"color:#000000;font-weight:lighter\">/Ci/en</span> <div style=\"margin-left:20px;color:#268bd2\"><span style=\"font-weight:bold\">(</span><span style=\"color:#dc322f\"><span style=\"color:#dc322f\">big</span><span style=\"color:#000000;font-weight:lighter\">/Ma/en</span> <span style=\"color:#268bd2\"><span style=\"color:#268bd2\">words</span><span style=\"color:#000000;font-weight:lighter\">/Cc.p/en</span><span style=\"color:#268bd2\"><span style=\"font-weight:bold\">)</span></span><span style=\"color:#303030\"><span style=\"font-weight:bold\">)</span></span><span style=\"color:#303030\"><span style=\"font-weight:bold\">)</span></span></div></div></span>"
      ],
      "text/plain": [
       "<IPython.core.display.HTML object>"
      ]
     },
     "metadata": {},
     "output_type": "display_data"
    },
    {
     "data": {
      "text/html": [
       "<span style=\"color:#303030\"><span style=\"font-weight:bold\">(</span><span style=\"color:#cb4b16\"><span style=\"font-weight:bold\">(</span><span style=\"color:#dc322f\"><span style=\"color:#dc322f\">not</span><span style=\"color:#000000;font-weight:lighter\">/Mn/en</span> <span style=\"color:#cb4b16\"><span style=\"color:#cb4b16\">is</span><span style=\"color:#000000;font-weight:lighter\">/Pd.sc.|f--3s-/en</span><span style=\"color:#cb4b16\"><span style=\"font-weight:bold\">)</span></span></span> <div style=\"margin-left:20px;color:#268bd2\"><span style=\"color:#268bd2\">this</span><span style=\"color:#000000;font-weight:lighter\">/Cd/en</span> <div style=\"margin-left:20px;color:#268bd2\"><span style=\"font-weight:bold\">(</span><span style=\"color:#dc322f\"><span style=\"color:#dc322f\">a</span><span style=\"color:#000000;font-weight:lighter\">/Md/en</span> <span style=\"color:#268bd2\"><span style=\"color:#268bd2\">paper</span><span style=\"color:#000000;font-weight:lighter\">/Cc.s/en</span><span style=\"color:#268bd2\"><span style=\"font-weight:bold\">)</span></span><span style=\"color:#303030\"><span style=\"font-weight:bold\">)</span></span></div></span>"
      ],
      "text/plain": [
       "<IPython.core.display.HTML object>"
      ]
     },
     "metadata": {},
     "output_type": "display_data"
    },
    {
     "data": {
      "text/html": [
       "<span style=\"color:#303030\"><span style=\"font-weight:bold\">(</span><span style=\"color:#cb4b16\"><span style=\"font-weight:bold\">(</span><span style=\"color:#dc322f\"><span style=\"color:#dc322f\">and</span><span style=\"color:#000000;font-weight:lighter\">/Mj/en</span> <span style=\"color:#cb4b16\"><span style=\"font-weight:bold\">(</span><span style=\"color:#dc322f\"><span style=\"color:#dc322f\">also</span><span style=\"color:#000000;font-weight:lighter\">/M/en</span> <span style=\"color:#cb4b16\"><span style=\"color:#cb4b16\">is</span><span style=\"color:#000000;font-weight:lighter\">/Pd.sc.|f--3s-/en</span><span style=\"color:#cb4b16\"><span style=\"font-weight:bold\">)</span></span><span style=\"color:#cb4b16\"><span style=\"font-weight:bold\">)</span></span></span></span> <div style=\"margin-left:20px;color:#268bd2\"><span style=\"color:#268bd2\">it</span><span style=\"color:#000000;font-weight:lighter\">/Ci/en</span> <div style=\"margin-left:20px;color:#268bd2\"><span style=\"font-weight:bold\">(</span><span style=\"color:#dc322f\"><span style=\"color:#dc322f\">a</span><span style=\"color:#000000;font-weight:lighter\">/Md/en</span> <span style=\"color:#268bd2\"><span style=\"font-weight:bold\">(</span><span style=\"color:#dc322f\"><span style=\"color:#dc322f\">small</span><span style=\"color:#000000;font-weight:lighter\">/Ma/en</span> <span style=\"color:#268bd2\"><span style=\"color:#268bd2\">work</span><span style=\"color:#000000;font-weight:lighter\">/Cc.s/en</span><span style=\"color:#268bd2\"><span style=\"font-weight:bold\">)</span></span><span style=\"color:#268bd2\"><span style=\"font-weight:bold\">)</span></span><span style=\"color:#303030\"><span style=\"font-weight:bold\">)</span></span></span></div></span>"
      ],
      "text/plain": [
       "<IPython.core.display.HTML object>"
      ]
     },
     "metadata": {},
     "output_type": "display_data"
    },
    {
     "data": {
      "text/html": [
       "<span style=\"color:#303030\"><span style=\"font-weight:bold\">(</span><span style=\"color:#cb4b16\"><span style=\"font-weight:bold\">(</span><span style=\"color:#dc322f\"><span style=\"color:#dc322f\">not</span><span style=\"color:#000000;font-weight:lighter\">/Mn/en</span> <span style=\"color:#cb4b16\"><span style=\"color:#cb4b16\">&#x27;s</span><span style=\"color:#000000;font-weight:lighter\">/Pd.sc.|f--3s-/en</span><span style=\"color:#cb4b16\"><span style=\"font-weight:bold\">)</span></span></span> <div style=\"margin-left:20px;color:#268bd2\"><span style=\"color:#268bd2\">it</span><span style=\"color:#000000;font-weight:lighter\">/Ci/en</span> <div style=\"margin-left:20px;color:#268bd2\"><span style=\"font-weight:bold\">(</span><span style=\"color:#859900\"><span style=\"color:#859900\">of</span><span style=\"color:#000000;font-weight:lighter\">/Br.ma/en</span> <div style=\"margin-left:20px;color:#268bd2\"><span style=\"font-weight:bold\">(</span><span style=\"color:#dc322f\"><span style=\"color:#dc322f\">a</span><span style=\"color:#000000;font-weight:lighter\">/Md/en</span> <span style=\"color:#268bd2\"><span style=\"color:#268bd2\">lot</span><span style=\"color:#000000;font-weight:lighter\">/Cc.s/en</span><span style=\"color:#268bd2\"><span style=\"font-weight:bold\">)</span></span></div> <div style=\"margin-left:20px;color:#268bd2\"><span style=\"font-weight:bold\">(</span><span style=\"color:#b58900\"><span style=\"color:#b58900\">like</span><span style=\"color:#000000;font-weight:lighter\">/Jr.ma/en</span> <div style=\"margin-left:20px;color:#268bd2\"><span style=\"color:#268bd2\">words</span><span style=\"color:#000000;font-weight:lighter\">/Cc.p/en</span> <div style=\"margin-left:20px;color:#303030\"><span style=\"font-weight:bold\">(</span><span style=\"color:#cb4b16\"><span style=\"color:#cb4b16\">have</span><span style=\"color:#000000;font-weight:lighter\">/P.osx.|f-----/en</span> <div style=\"margin-left:20px;color:#268bd2\"><span style=\"color:#268bd2\">what</span><span style=\"color:#000000;font-weight:lighter\">/Cw/en</span> <div style=\"margin-left:20px;color:#268bd2\"><span style=\"color:#268bd2\">you</span><span style=\"color:#000000;font-weight:lighter\">/Ci/en</span> <div style=\"margin-left:20px;color:#6c71c4\"><span style=\"font-weight:bold\">(</span><span style=\"color:#d33682\"><span style=\"color:#d33682\">in</span><span style=\"color:#000000;font-weight:lighter\">/T/en</span> <span style=\"color:#268bd2\"><span style=\"font-weight:bold\">(</span><span style=\"color:#dc322f\"><span style=\"color:#dc322f\">a</span><span style=\"color:#000000;font-weight:lighter\">/Md/en</span> <span style=\"color:#268bd2\"><span style=\"font-weight:bold\">(</span><span style=\"color:#dc322f\"><span style=\"color:#dc322f\">whole</span><span style=\"color:#000000;font-weight:lighter\">/Ma/en</span> <span style=\"color:#268bd2\"><span style=\"color:#268bd2\">book</span><span style=\"color:#000000;font-weight:lighter\">/Cc.s/en</span><span style=\"color:#268bd2\"><span style=\"font-weight:bold\">)</span></span><span style=\"color:#268bd2\"><span style=\"font-weight:bold\">)</span></span><span style=\"color:#6c71c4\"><span style=\"font-weight:bold\">)</span></span><span style=\"color:#303030\"><span style=\"font-weight:bold\">)</span></span><span style=\"color:#268bd2\"><span style=\"font-weight:bold\">)</span></span><span style=\"color:#268bd2\"><span style=\"font-weight:bold\">)</span></span><span style=\"color:#303030\"><span style=\"font-weight:bold\">)</span></span></span></span></div></div></div></div></span>"
      ],
      "text/plain": [
       "<IPython.core.display.HTML object>"
      ]
     },
     "metadata": {},
     "output_type": "display_data"
    },
    {
     "data": {
      "text/html": [
       "<span style=\"color:#303030\"><span style=\"font-weight:bold\">(</span><span style=\"color:#cb4b16\"><span style=\"color:#cb4b16\">is</span><span style=\"color:#000000;font-weight:lighter\">/Pd.?sx.|f--3s-/en</span> <div style=\"margin-left:20px;color:#268bd2\"><span style=\"color:#268bd2\">\n",
       "\n",
       "</span><span style=\"color:#000000;font-weight:lighter\">/C/en</span> <div style=\"margin-left:20px;color:#268bd2\"><span style=\"font-weight:bold\">(</span><span style=\"color:#859900\"><span style=\"color:#859900\">+</span><span style=\"color:#000000;font-weight:lighter\">/B.am/.</span> <span style=\"color:#268bd2\"><span style=\"color:#268bd2\">learning</span><span style=\"color:#000000;font-weight:lighter\">/Cp.s/en</span> <span style=\"color:#268bd2\"><span style=\"color:#268bd2\">english</span><span style=\"color:#000000;font-weight:lighter\">/Cp.s/en</span><span style=\"color:#268bd2\"><span style=\"font-weight:bold\">)</span></span></div> <div style=\"margin-left:20px;color:#6c71c4\"><span style=\"font-weight:bold\">(</span><span style=\"color:#d33682\"><span style=\"color:#d33682\">like</span><span style=\"color:#000000;font-weight:lighter\">/T/en</span> <span style=\"color:#268bd2\"><span style=\"font-weight:bold\">(</span><span style=\"color:#dc322f\"><span style=\"color:#dc322f\">a</span><span style=\"color:#000000;font-weight:lighter\">/Md/en</span> <span style=\"color:#268bd2\"><span style=\"color:#268bd2\">sport</span><span style=\"color:#000000;font-weight:lighter\">/Cc.s/en</span><span style=\"color:#268bd2\"><span style=\"font-weight:bold\">)</span></span><span style=\"color:#6c71c4\"><span style=\"font-weight:bold\">)</span></span><span style=\"color:#303030\"><span style=\"font-weight:bold\">)</span></span></span></div></span>"
      ],
      "text/plain": [
       "<IPython.core.display.HTML object>"
      ]
     },
     "metadata": {},
     "output_type": "display_data"
    },
    {
     "data": {
      "text/html": [
       "<span style=\"color:#303030\"><span style=\"font-weight:bold\">(</span><span style=\"color:#b58900\"><span style=\"color:#b58900\">or</span><span style=\"color:#000000;font-weight:lighter\">/J/en</span> <div style=\"margin-left:20px;color:#303030\"><span style=\"font-weight:bold\">(</span><span style=\"color:#cb4b16\"><span style=\"color:#cb4b16\">need</span><span style=\"color:#000000;font-weight:lighter\">/Pd.sr.|f-----/en</span> <div style=\"margin-left:20px;color:#268bd2\"><span style=\"color:#268bd2\">you</span><span style=\"color:#000000;font-weight:lighter\">/Ci/en</span> <div style=\"margin-left:20px;color:#303030\"><span style=\"font-weight:bold\">(</span><span style=\"color:#cb4b16\"><span style=\"font-weight:bold\">(</span><span style=\"color:#dc322f\"><span style=\"color:#dc322f\">to</span><span style=\"color:#000000;font-weight:lighter\">/Mi/en</span> <span style=\"color:#cb4b16\"><span style=\"color:#cb4b16\">make</span><span style=\"color:#000000;font-weight:lighter\">/P.ox.-i-----/en</span><span style=\"color:#cb4b16\"><span style=\"font-weight:bold\">)</span></span></span> <div style=\"margin-left:20px;color:#268bd2\"><span style=\"font-weight:bold\">(</span><span style=\"color:#dc322f\"><span style=\"color:#dc322f\">some</span><span style=\"color:#000000;font-weight:lighter\">/Md/en</span> <span style=\"color:#268bd2\"><span style=\"color:#268bd2\">things</span><span style=\"color:#000000;font-weight:lighter\">/Cc.p/en</span><span style=\"color:#268bd2\"><span style=\"font-weight:bold\">)</span></span></div> <div style=\"margin-left:20px;color:#268bd2\"><span style=\"font-weight:bold\">(</span><span style=\"color:#dc322f\"><span style=\"color:#dc322f\">a</span><span style=\"color:#000000;font-weight:lighter\">/Md/en</span> <span style=\"color:#268bd2\"><span style=\"color:#268bd2\">lot</span><span style=\"color:#000000;font-weight:lighter\">/Cc.s/en</span><span style=\"color:#268bd2\"><span style=\"font-weight:bold\">)</span></span><span style=\"color:#303030\"><span style=\"font-weight:bold\">)</span></span><span style=\"color:#303030\"><span style=\"font-weight:bold\">)</span></span></div></div></div> <div style=\"margin-left:20px;color:#303030\"><span style=\"font-weight:bold\">(</span><span style=\"color:#cb4b16\"><span style=\"color:#cb4b16\">forget</span><span style=\"color:#000000;font-weight:lighter\">/Pd.so.|f-----/en</span> <div style=\"margin-left:20px;color:#268bd2\"><span style=\"color:#268bd2\">you</span><span style=\"color:#000000;font-weight:lighter\">/Ci/en</span> <div style=\"margin-left:20px;color:#268bd2\"><span style=\"font-weight:bold\">(</span><span style=\"color:#859900\"><span style=\"color:#859900\">+</span><span style=\"color:#000000;font-weight:lighter\">/B.mm/.</span> <span style=\"color:#268bd2\"><span style=\"color:#268bd2\">it</span><span style=\"color:#000000;font-weight:lighter\">/Ci/en</span> <span style=\"color:#268bd2\"><span style=\"color:#268bd2\">all</span><span style=\"color:#000000;font-weight:lighter\">/Cd/en</span><span style=\"color:#268bd2\"><span style=\"font-weight:bold\">)</span></span><span style=\"color:#303030\"><span style=\"font-weight:bold\">)</span></span><span style=\"color:#303030\"><span style=\"font-weight:bold\">)</span></span></div></div></span>"
      ],
      "text/plain": [
       "<IPython.core.display.HTML object>"
      ]
     },
     "metadata": {},
     "output_type": "display_data"
    },
    {
     "data": {
      "text/html": [
       "<span style=\"color:#303030\"><span style=\"font-weight:bold\">(</span><span style=\"color:#cb4b16\"><span style=\"color:#cb4b16\">learning</span><span style=\"color:#000000;font-weight:lighter\">/P.?.|pg----/en</span> <span style=\"color:#6c71c4\"><span style=\"font-weight:bold\">(</span><span style=\"color:#d33682\"><span style=\"color:#d33682\">about</span><span style=\"color:#000000;font-weight:lighter\">/T/en</span> <span style=\"color:#303030\"><span style=\"font-weight:bold\">(</span><span style=\"color:#cb4b16\"><span style=\"font-weight:bold\">(</span><span style=\"color:#dc322f\"><span style=\"color:#dc322f\">better</span><span style=\"color:#000000;font-weight:lighter\">/M/en</span> <span style=\"color:#cb4b16\"><span style=\"color:#cb4b16\">forget</span><span style=\"color:#000000;font-weight:lighter\">/Pd.rxs.|f-----/en</span><span style=\"color:#cb4b16\"><span style=\"font-weight:bold\">)</span></span></span> <div style=\"margin-left:20px;color:#303030\"><span style=\"font-weight:bold\">(</span><span style=\"color:#cb4b16\"><span style=\"color:#cb4b16\">start</span><span style=\"color:#000000;font-weight:lighter\">/P.sr.|f-----/en</span> <div style=\"margin-left:20px;color:#268bd2\"><span style=\"color:#268bd2\">you</span><span style=\"color:#000000;font-weight:lighter\">/Ci/en</span> <div style=\"margin-left:20px;color:#303030\"><span style=\"font-weight:bold\">(</span><span style=\"color:#cb4b16\"><span style=\"color:#cb4b16\">doing</span><span style=\"color:#000000;font-weight:lighter\">/P.o.|pg----/en</span> <span style=\"color:#268bd2\"><span style=\"font-weight:bold\">(</span><span style=\"color:#dc322f\"><span style=\"color:#dc322f\">the</span><span style=\"color:#000000;font-weight:lighter\">/Md/en</span> <span style=\"color:#268bd2\"><span style=\"color:#268bd2\">work</span><span style=\"color:#000000;font-weight:lighter\">/Cc.s/en</span><span style=\"color:#268bd2\"><span style=\"font-weight:bold\">)</span></span><span style=\"color:#303030\"><span style=\"font-weight:bold\">)</span></span><span style=\"color:#303030\"><span style=\"font-weight:bold\">)</span></span></span></div></div> <div style=\"margin-left:20px;color:#6c71c4\"><span style=\"font-weight:bold\">(</span><span style=\"color:#d33682\"><span style=\"color:#d33682\">if</span><span style=\"color:#000000;font-weight:lighter\">/T/en</span> <span style=\"color:#303030\"><span style=\"font-weight:bold\">(</span><span style=\"color:#cb4b16\"><span style=\"font-weight:bold\">(</span><span style=\"color:#dc322f\"><span style=\"color:#dc322f\">do</span><span style=\"color:#000000;font-weight:lighter\">/Mv.|f-----/en</span> <span style=\"color:#cb4b16\"><span style=\"font-weight:bold\">(</span><span style=\"color:#dc322f\"><span style=\"color:#dc322f\">n&#x27;t</span><span style=\"color:#000000;font-weight:lighter\">/Mn/en</span> <span style=\"color:#cb4b16\"><span style=\"color:#cb4b16\">do</span><span style=\"color:#000000;font-weight:lighter\">/Pd.sox.-i-----/en</span><span style=\"color:#cb4b16\"><span style=\"font-weight:bold\">)</span></span><span style=\"color:#cb4b16\"><span style=\"font-weight:bold\">)</span></span></span></span> <div style=\"margin-left:20px;color:#268bd2\"><span style=\"color:#268bd2\">you</span><span style=\"color:#000000;font-weight:lighter\">/Ci/en</span> <div style=\"margin-left:20px;color:#268bd2\"><span style=\"color:#268bd2\">it</span><span style=\"color:#000000;font-weight:lighter\">/Ci/en</span> <div style=\"margin-left:20px;color:#268bd2\"><span style=\"font-weight:bold\">(</span><span style=\"color:#dc322f\"><span style=\"color:#dc322f\">enough</span><span style=\"color:#000000;font-weight:lighter\">/Ma/en</span> <span style=\"color:#268bd2\"><span style=\"color:#268bd2\">time</span><span style=\"color:#000000;font-weight:lighter\">/Cc.s/en</span><span style=\"color:#268bd2\"><span style=\"font-weight:bold\">)</span></span><span style=\"color:#303030\"><span style=\"font-weight:bold\">)</span></span><span style=\"color:#6c71c4\"><span style=\"font-weight:bold\">)</span></span></div></span></div> <div style=\"margin-left:20px;color:#268bd2\"><span style=\"color:#268bd2\">you</span><span style=\"color:#000000;font-weight:lighter\">/Ci/en</span><span style=\"color:#303030\"><span style=\"font-weight:bold\">)</span></span><span style=\"color:#6c71c4\"><span style=\"font-weight:bold\">)</span></span><span style=\"color:#303030\"><span style=\"font-weight:bold\">)</span></span></span></span></span>"
      ],
      "text/plain": [
       "<IPython.core.display.HTML object>"
      ]
     },
     "metadata": {},
     "output_type": "display_data"
    },
    {
     "data": {
      "text/html": [
       "<span style=\"color:#303030\"><span style=\"font-weight:bold\">(</span><span style=\"color:#cb4b16\"><span style=\"color:#cb4b16\">&#x27;s</span><span style=\"color:#000000;font-weight:lighter\">/Pd.sr.|f--3s-/en</span> <div style=\"margin-left:20px;color:#268bd2\"><span style=\"color:#268bd2\">that</span><span style=\"color:#000000;font-weight:lighter\">/Cd/en</span> <div style=\"margin-left:20px;color:#303030\"><span style=\"font-weight:bold\">(</span><span style=\"color:#b58900\"><span style=\"color:#b58900\">and</span><span style=\"color:#000000;font-weight:lighter\">/J/en</span> <div style=\"margin-left:20px;color:#303030\"><span style=\"font-weight:bold\">(</span><span style=\"color:#cb4b16\"><span style=\"font-weight:bold\">(</span><span style=\"color:#dc322f\"><span style=\"color:#dc322f\">why</span><span style=\"color:#000000;font-weight:lighter\">/M/en</span> <span style=\"color:#cb4b16\"><span style=\"color:#cb4b16\">take</span><span style=\"color:#000000;font-weight:lighter\">/P.xso.|f-----/en</span><span style=\"color:#cb4b16\"><span style=\"font-weight:bold\">)</span></span></span> <div style=\"margin-left:20px;color:#268bd2\"><span style=\"font-weight:bold\">(</span><span style=\"color:#dc322f\"><span style=\"color:#dc322f\">the</span><span style=\"color:#000000;font-weight:lighter\">/Md/en</span> <span style=\"color:#268bd2\"><span style=\"font-weight:bold\">(</span><span style=\"color:#dc322f\"><span style=\"color:#dc322f\">whole</span><span style=\"color:#000000;font-weight:lighter\">/Ma/en</span> <span style=\"color:#268bd2\"><span style=\"color:#268bd2\">time</span><span style=\"color:#000000;font-weight:lighter\">/Cc.s/en</span><span style=\"color:#268bd2\"><span style=\"font-weight:bold\">)</span></span><span style=\"color:#268bd2\"><span style=\"font-weight:bold\">)</span></span></span></div> <div style=\"margin-left:20px;color:#268bd2\"><span style=\"color:#268bd2\">i</span><span style=\"color:#000000;font-weight:lighter\">/Ci/en</span> <div style=\"margin-left:20px;color:#268bd2\"><span style=\"font-weight:bold\">(</span><span style=\"color:#dc322f\"><span style=\"color:#dc322f\">a</span><span style=\"color:#000000;font-weight:lighter\">/Md/en</span> <span style=\"color:#268bd2\"><span style=\"color:#268bd2\">word</span><span style=\"color:#000000;font-weight:lighter\">/Cc.s/en</span><span style=\"color:#268bd2\"><span style=\"font-weight:bold\">)</span></span><span style=\"color:#303030\"><span style=\"font-weight:bold\">)</span></span></div></div> <div style=\"margin-left:20px;color:#303030\"><span style=\"font-weight:bold\">(</span><span style=\"color:#cb4b16\"><span style=\"color:#cb4b16\">write</span><span style=\"color:#000000;font-weight:lighter\">/Pd.soxx.|f-----/en</span> <div style=\"margin-left:20px;color:#268bd2\"><span style=\"color:#268bd2\">i</span><span style=\"color:#000000;font-weight:lighter\">/Ci/en</span> <div style=\"margin-left:20px;color:#268bd2\"><span style=\"color:#268bd2\">it</span><span style=\"color:#000000;font-weight:lighter\">/Ci/en</span> <div style=\"margin-left:20px;color:#6c71c4\"><span style=\"font-weight:bold\">(</span><span style=\"color:#d33682\"><span style=\"color:#d33682\">in</span><span style=\"color:#000000;font-weight:lighter\">/T/en</span> <span style=\"color:#268bd2\"><span style=\"font-weight:bold\">(</span><span style=\"color:#dc322f\"><span style=\"color:#dc322f\">a</span><span style=\"color:#000000;font-weight:lighter\">/Md/en</span> <span style=\"color:#268bd2\"><span style=\"color:#268bd2\">sentence</span><span style=\"color:#000000;font-weight:lighter\">/Cc.s/en</span><span style=\"color:#268bd2\"><span style=\"font-weight:bold\">)</span></span><span style=\"color:#6c71c4\"><span style=\"font-weight:bold\">)</span></span></span></div> <div style=\"margin-left:20px;color:#268bd2\"><span style=\"font-weight:bold\">(</span><span style=\"color:#dc322f\"><span style=\"color:#dc322f\">the</span><span style=\"color:#000000;font-weight:lighter\">/Md/en</span> <span style=\"color:#268bd2\"><span style=\"font-weight:bold\">(</span><span style=\"color:#dc322f\"><span style=\"color:#dc322f\">first</span><span style=\"color:#000000;font-weight:lighter\">/Ma/en</span> <span style=\"color:#268bd2\"><span style=\"color:#268bd2\">time</span><span style=\"color:#000000;font-weight:lighter\">/Cc.s/en</span><span style=\"color:#268bd2\"><span style=\"font-weight:bold\">)</span></span><span style=\"color:#268bd2\"><span style=\"font-weight:bold\">)</span></span><span style=\"color:#303030\"><span style=\"font-weight:bold\">)</span></span><span style=\"color:#303030\"><span style=\"font-weight:bold\">)</span></span><span style=\"color:#303030\"><span style=\"font-weight:bold\">)</span></span></span></div></div></div></span>"
      ],
      "text/plain": [
       "<IPython.core.display.HTML object>"
      ]
     },
     "metadata": {},
     "output_type": "display_data"
    },
    {
     "data": {
      "text/html": [
       "<span style=\"color:#303030\"><span style=\"font-weight:bold\">(</span><span style=\"color:#b58900\"><span style=\"color:#b58900\">but</span><span style=\"color:#000000;font-weight:lighter\">/J/en</span> <div style=\"margin-left:20px;color:#303030\"><span style=\"font-weight:bold\">(</span><span style=\"color:#cb4b16\"><span style=\"font-weight:bold\">(</span><span style=\"color:#dc322f\"><span style=\"color:#dc322f\">again</span><span style=\"color:#000000;font-weight:lighter\">/M/en</span> <span style=\"color:#cb4b16\"><span style=\"font-weight:bold\">(</span><span style=\"color:#dc322f\"><span style=\"color:#dc322f\">then</span><span style=\"color:#000000;font-weight:lighter\">/M/en</span> <span style=\"color:#cb4b16\"><span style=\"color:#cb4b16\">tell</span><span style=\"color:#000000;font-weight:lighter\">/Pd.soo.|f-----/en</span><span style=\"color:#cb4b16\"><span style=\"font-weight:bold\">)</span></span><span style=\"color:#cb4b16\"><span style=\"font-weight:bold\">)</span></span></span></span> <div style=\"margin-left:20px;color:#268bd2\"><span style=\"color:#268bd2\">i</span><span style=\"color:#000000;font-weight:lighter\">/Ci/en</span> <div style=\"margin-left:20px;color:#268bd2\"><span style=\"color:#268bd2\">you</span><span style=\"color:#000000;font-weight:lighter\">/Ci/en</span> <div style=\"margin-left:20px;color:#268bd2\"><span style=\"color:#268bd2\">all</span><span style=\"color:#000000;font-weight:lighter\">/Cd/en</span><span style=\"color:#303030\"><span style=\"font-weight:bold\">)</span></span></div> <div style=\"margin-left:20px;color:#6c71c4\"><span style=\"font-weight:bold\">(</span><span style=\"color:#d33682\"><span style=\"color:#d33682\">in</span><span style=\"color:#000000;font-weight:lighter\">/T/en</span> <span style=\"color:#268bd2\"><span style=\"font-weight:bold\">(</span><span style=\"color:#dc322f\"><span style=\"color:#dc322f\">another</span><span style=\"color:#000000;font-weight:lighter\">/Md/en</span> <span style=\"color:#268bd2\"><span style=\"color:#268bd2\">manner</span><span style=\"color:#000000;font-weight:lighter\">/Cc.s/en</span><span style=\"color:#268bd2\"><span style=\"font-weight:bold\">)</span></span><span style=\"color:#6c71c4\"><span style=\"font-weight:bold\">)</span></span><span style=\"color:#303030\"><span style=\"font-weight:bold\">)</span></span></span></div></span>"
      ],
      "text/plain": [
       "<IPython.core.display.HTML object>"
      ]
     },
     "metadata": {},
     "output_type": "display_data"
    },
    {
     "data": {
      "text/html": [
       "<span style=\"color:#268bd2\"><span style=\"font-weight:bold\">(</span><span style=\"color:#dc322f\"><span style=\"color:#dc322f\">why</span><span style=\"color:#000000;font-weight:lighter\">/M/en</span> <span style=\"color:#268bd2\"><span style=\"color:#268bd2\">%20</span><span style=\"color:#000000;font-weight:lighter\">/C/en</span><span style=\"color:#268bd2\"><span style=\"font-weight:bold\">)</span></span></span>"
      ],
      "text/plain": [
       "<IPython.core.display.HTML object>"
      ]
     },
     "metadata": {},
     "output_type": "display_data"
    },
    {
     "data": {
      "text/html": [
       "<span style=\"color:#303030\"><span style=\"font-weight:bold\">(</span><span style=\"color:#cb4b16\"><span style=\"color:#cb4b16\">is</span><span style=\"color:#000000;font-weight:lighter\">/Pd.?xscr.|f--3s-/en</span> <div style=\"margin-left:20px;color:#268bd2\"><span style=\"color:#268bd2\">because</span><span style=\"color:#000000;font-weight:lighter\">/C/en</span> <div style=\"margin-left:20px;color:#6c71c4\"><span style=\"font-weight:bold\">(</span><span style=\"color:#d33682\"><span style=\"color:#d33682\">when</span><span style=\"color:#000000;font-weight:lighter\">/T/en</span> <span style=\"color:#303030\"><span style=\"font-weight:bold\">(</span><span style=\"color:#cb4b16\"><span style=\"color:#cb4b16\">do</span><span style=\"color:#000000;font-weight:lighter\">/Pd.so.|f-----/en</span> <div style=\"margin-left:20px;color:#268bd2\"><span style=\"color:#268bd2\">you</span><span style=\"color:#000000;font-weight:lighter\">/Ci/en</span> <div style=\"margin-left:20px;color:#268bd2\"><span style=\"font-weight:bold\">(</span><span style=\"color:#859900\"><span style=\"color:#859900\">like</span><span style=\"color:#000000;font-weight:lighter\">/Br.ma/en</span> <span style=\"color:#268bd2\"><span style=\"color:#268bd2\">things</span><span style=\"color:#000000;font-weight:lighter\">/Cc.p/en</span> <span style=\"color:#268bd2\"><span style=\"color:#268bd2\">that</span><span style=\"color:#000000;font-weight:lighter\">/Cd/en</span><span style=\"color:#268bd2\"><span style=\"font-weight:bold\">)</span></span><span style=\"color:#303030\"><span style=\"font-weight:bold\">)</span></span><span style=\"color:#6c71c4\"><span style=\"font-weight:bold\">)</span></span></div></span></div> <div style=\"margin-left:20px;color:#268bd2\"><span style=\"color:#268bd2\">it</span><span style=\"color:#000000;font-weight:lighter\">/Ci/en</span> <div style=\"margin-left:20px;color:#268bd2\"><span style=\"color:#268bd2\">easy</span><span style=\"color:#000000;font-weight:lighter\">/Ca/en</span> <div style=\"margin-left:20px;color:#303030\"><span style=\"font-weight:bold\">(</span><span style=\"color:#cb4b16\"><span style=\"font-weight:bold\">(</span><span style=\"color:#dc322f\"><span style=\"color:#dc322f\">to</span><span style=\"color:#000000;font-weight:lighter\">/Mi/en</span> <span style=\"color:#cb4b16\"><span style=\"color:#cb4b16\">remember</span><span style=\"color:#000000;font-weight:lighter\">/P.r.-i-----/en</span><span style=\"color:#cb4b16\"><span style=\"font-weight:bold\">)</span></span></span> <span style=\"color:#303030\"><span style=\"font-weight:bold\">(</span><span style=\"color:#cb4b16\"><span style=\"color:#cb4b16\">face</span><span style=\"color:#000000;font-weight:lighter\">/P.osx.|f-----/en</span> <div style=\"margin-left:20px;color:#268bd2\"><span style=\"color:#268bd2\">what</span><span style=\"color:#000000;font-weight:lighter\">/Cw/en</span> <div style=\"margin-left:20px;color:#268bd2\"><span style=\"color:#268bd2\">you</span><span style=\"color:#000000;font-weight:lighter\">/Ci/en</span> <div style=\"margin-left:20px;color:#6c71c4\"><span style=\"font-weight:bold\">(</span><span style=\"color:#d33682\"><span style=\"color:#d33682\">for</span><span style=\"color:#000000;font-weight:lighter\">/T/en</span> <span style=\"color:#268bd2\"><span style=\"font-weight:bold\">(</span><span style=\"color:#dc322f\"><span style=\"color:#dc322f\">the</span><span style=\"color:#000000;font-weight:lighter\">/Md/en</span> <span style=\"color:#268bd2\"><span style=\"font-weight:bold\">(</span><span style=\"color:#dc322f\"><span style=\"color:#dc322f\">first</span><span style=\"color:#000000;font-weight:lighter\">/Ma/en</span> <span style=\"color:#268bd2\"><span style=\"color:#268bd2\">time</span><span style=\"color:#000000;font-weight:lighter\">/Cc.s/en</span><span style=\"color:#268bd2\"><span style=\"font-weight:bold\">)</span></span><span style=\"color:#268bd2\"><span style=\"font-weight:bold\">)</span></span><span style=\"color:#6c71c4\"><span style=\"font-weight:bold\">)</span></span><span style=\"color:#303030\"><span style=\"font-weight:bold\">)</span></span><span style=\"color:#303030\"><span style=\"font-weight:bold\">)</span></span><span style=\"color:#303030\"><span style=\"font-weight:bold\">)</span></span></span></span></div></span></div></span>"
      ],
      "text/plain": [
       "<IPython.core.display.HTML object>"
      ]
     },
     "metadata": {},
     "output_type": "display_data"
    },
    {
     "data": {
      "text/html": [
       "<span style=\"color:#303030\"><span style=\"font-weight:bold\">(</span><span style=\"color:#cb4b16\"><span style=\"font-weight:bold\">(</span><span style=\"color:#dc322f\"><span style=\"color:#dc322f\">also</span><span style=\"color:#000000;font-weight:lighter\">/M/en</span> <span style=\"color:#cb4b16\"><span style=\"color:#cb4b16\">learn</span><span style=\"color:#000000;font-weight:lighter\">/Pd.?sx.|f-----/en</span><span style=\"color:#cb4b16\"><span style=\"font-weight:bold\">)</span></span></span> <div style=\"margin-left:20px;color:#268bd2\"><span style=\"color:#268bd2\">%20\n",
       "\n",
       "</span><span style=\"color:#000000;font-weight:lighter\">/C/en</span> <div style=\"margin-left:20px;color:#268bd2\"><span style=\"font-weight:bold\">(</span><span style=\"color:#859900\"><span style=\"color:#859900\">+</span><span style=\"color:#000000;font-weight:lighter\">/B.mm/.</span> <span style=\"color:#268bd2\"><span style=\"color:#268bd2\">we</span><span style=\"color:#000000;font-weight:lighter\">/Ci/en</span> <span style=\"color:#268bd2\"><span style=\"color:#268bd2\">all</span><span style=\"color:#000000;font-weight:lighter\">/Cd/en</span><span style=\"color:#268bd2\"><span style=\"font-weight:bold\">)</span></span></div> <div style=\"margin-left:20px;color:#6c71c4\"><span style=\"font-weight:bold\">(</span><span style=\"color:#d33682\"><span style=\"color:#d33682\">by</span><span style=\"color:#000000;font-weight:lighter\">/T/en</span> <span style=\"color:#303030\"><span style=\"font-weight:bold\">(</span><span style=\"color:#cb4b16\"><span style=\"color:#cb4b16\">making</span><span style=\"color:#000000;font-weight:lighter\">/P.o.|pg----/en</span> <span style=\"color:#268bd2\"><span style=\"color:#268bd2\">mistakes</span><span style=\"color:#000000;font-weight:lighter\">/Cc.p/en</span><span style=\"color:#303030\"><span style=\"font-weight:bold\">)</span></span><span style=\"color:#6c71c4\"><span style=\"font-weight:bold\">)</span></span><span style=\"color:#303030\"><span style=\"font-weight:bold\">)</span></span></span></div></span>"
      ],
      "text/plain": [
       "<IPython.core.display.HTML object>"
      ]
     },
     "metadata": {},
     "output_type": "display_data"
    },
    {
     "data": {
      "text/html": [
       "<span style=\"color:#303030\"><span style=\"font-weight:bold\">(</span><span style=\"color:#cb4b16\"><span style=\"color:#cb4b16\">have</span><span style=\"color:#000000;font-weight:lighter\">/Pd.xsr.|f-----/en</span> <div style=\"margin-left:20px;color:#6c71c4\"><span style=\"font-weight:bold\">(</span><span style=\"color:#d33682\"><span style=\"color:#d33682\">when</span><span style=\"color:#000000;font-weight:lighter\">/T/en</span> <span style=\"color:#303030\"><span style=\"font-weight:bold\">(</span><span style=\"color:#cb4b16\"><span style=\"color:#cb4b16\">start</span><span style=\"color:#000000;font-weight:lighter\">/Pd.sr.|f-----/en</span> <div style=\"margin-left:20px;color:#268bd2\"><span style=\"color:#268bd2\">we</span><span style=\"color:#000000;font-weight:lighter\">/Ci/en</span> <div style=\"margin-left:20px;color:#303030\"><span style=\"font-weight:bold\">(</span><span style=\"color:#cb4b16\"><span style=\"font-weight:bold\">(</span><span style=\"color:#dc322f\"><span style=\"color:#dc322f\">to</span><span style=\"color:#000000;font-weight:lighter\">/Mi/en</span> <span style=\"color:#cb4b16\"><span style=\"color:#cb4b16\">learn</span><span style=\"color:#000000;font-weight:lighter\">/P.r.-i-----/en</span><span style=\"color:#cb4b16\"><span style=\"font-weight:bold\">)</span></span></span> <span style=\"color:#303030\"><span style=\"font-weight:bold\">(</span><span style=\"color:#cb4b16\"><span style=\"color:#cb4b16\">need</span><span style=\"color:#000000;font-weight:lighter\">/P.sr.|f-----/en</span> <div style=\"margin-left:20px;color:#268bd2\"><span style=\"color:#268bd2\">we</span><span style=\"color:#000000;font-weight:lighter\">/Ci/en</span> <div style=\"margin-left:20px;color:#303030\"><span style=\"font-weight:bold\">(</span><span style=\"color:#cb4b16\"><span style=\"font-weight:bold\">(</span><span style=\"color:#dc322f\"><span style=\"color:#dc322f\">to</span><span style=\"color:#000000;font-weight:lighter\">/Mi/en</span> <span style=\"color:#cb4b16\"><span style=\"color:#cb4b16\">ask</span><span style=\"color:#000000;font-weight:lighter\">/P.x.-i-----/en</span><span style=\"color:#cb4b16\"><span style=\"font-weight:bold\">)</span></span></span> <span style=\"color:#6c71c4\"><span style=\"font-weight:bold\">(</span><span style=\"color:#d33682\"><span style=\"color:#d33682\">for</span><span style=\"color:#000000;font-weight:lighter\">/T/en</span> <span style=\"color:#268bd2\"><span style=\"color:#268bd2\">answers</span><span style=\"color:#000000;font-weight:lighter\">/Cc.p/en</span><span style=\"color:#6c71c4\"><span style=\"font-weight:bold\">)</span></span><span style=\"color:#303030\"><span style=\"font-weight:bold\">)</span></span><span style=\"color:#303030\"><span style=\"font-weight:bold\">)</span></span><span style=\"color:#303030\"><span style=\"font-weight:bold\">)</span></span><span style=\"color:#303030\"><span style=\"font-weight:bold\">)</span></span><span style=\"color:#6c71c4\"><span style=\"font-weight:bold\">)</span></span></span></div></span></div></span></div> <div style=\"margin-left:20px;color:#268bd2\"><span style=\"color:#268bd2\">we</span><span style=\"color:#000000;font-weight:lighter\">/Ci/en</span> <div style=\"margin-left:20px;color:#303030\"><span style=\"font-weight:bold\">(</span><span style=\"color:#cb4b16\"><span style=\"font-weight:bold\">(</span><span style=\"color:#dc322f\"><span style=\"color:#dc322f\">to</span><span style=\"color:#000000;font-weight:lighter\">/Mi/en</span> <span style=\"color:#cb4b16\"><span style=\"color:#cb4b16\">ask</span><span style=\"color:#000000;font-weight:lighter\">/P.x.-i-----/en</span><span style=\"color:#cb4b16\"><span style=\"font-weight:bold\">)</span></span></span> <span style=\"color:#6c71c4\"><span style=\"font-weight:bold\">(</span><span style=\"color:#d33682\"><span style=\"color:#d33682\">for</span><span style=\"color:#000000;font-weight:lighter\">/T/en</span> <span style=\"color:#268bd2\"><span style=\"color:#268bd2\">help</span><span style=\"color:#000000;font-weight:lighter\">/Cc.s/en</span><span style=\"color:#6c71c4\"><span style=\"font-weight:bold\">)</span></span><span style=\"color:#303030\"><span style=\"font-weight:bold\">)</span></span><span style=\"color:#303030\"><span style=\"font-weight:bold\">)</span></span></span></div></span>"
      ],
      "text/plain": [
       "<IPython.core.display.HTML object>"
      ]
     },
     "metadata": {},
     "output_type": "display_data"
    },
    {
     "data": {
      "text/html": [
       "<span style=\"color:#303030\"><span style=\"font-weight:bold\">(</span><span style=\"color:#cb4b16\"><span style=\"font-weight:bold\">(</span><span style=\"color:#dc322f\"><span style=\"color:#dc322f\">but</span><span style=\"color:#000000;font-weight:lighter\">/Mj/en</span> <span style=\"color:#cb4b16\"><span style=\"font-weight:bold\">(</span><span style=\"color:#dc322f\"><span style=\"color:#dc322f\">also</span><span style=\"color:#000000;font-weight:lighter\">/M/en</span> <span style=\"color:#cb4b16\"><span style=\"font-weight:bold\">(</span><span style=\"color:#dc322f\"><span style=\"color:#dc322f\">must</span><span style=\"color:#000000;font-weight:lighter\">/Mm/en</span> <span style=\"color:#cb4b16\"><span style=\"color:#cb4b16\">study</span><span style=\"color:#000000;font-weight:lighter\">/Pd.so.-i-----/en</span><span style=\"color:#cb4b16\"><span style=\"font-weight:bold\">)</span></span><span style=\"color:#cb4b16\"><span style=\"font-weight:bold\">)</span></span><span style=\"color:#cb4b16\"><span style=\"font-weight:bold\">)</span></span></span></span></span> <div style=\"margin-left:20px;color:#268bd2\"><span style=\"color:#268bd2\">we</span><span style=\"color:#000000;font-weight:lighter\">/Ci/en</span> <div style=\"margin-left:20px;color:#268bd2\"><span style=\"font-weight:bold\">(</span><span style=\"color:#dc322f\"><span style=\"color:#dc322f\">a</span><span style=\"color:#000000;font-weight:lighter\">/Md/en</span> <span style=\"color:#268bd2\"><span style=\"color:#268bd2\">lot</span><span style=\"color:#000000;font-weight:lighter\">/Cc.s/en</span><span style=\"color:#268bd2\"><span style=\"font-weight:bold\">)</span></span><span style=\"color:#303030\"><span style=\"font-weight:bold\">)</span></span></div></span>"
      ],
      "text/plain": [
       "<IPython.core.display.HTML object>"
      ]
     },
     "metadata": {},
     "output_type": "display_data"
    },
    {
     "data": {
      "text/html": [
       "<span style=\"color:#303030\"><span style=\"font-weight:bold\">(</span><span style=\"color:#cb4b16\"><span style=\"font-weight:bold\">(</span><span style=\"color:#dc322f\"><span style=\"color:#dc322f\">can</span><span style=\"color:#000000;font-weight:lighter\">/Mm/en</span> <span style=\"color:#cb4b16\"><span style=\"color:#cb4b16\">remember</span><span style=\"color:#000000;font-weight:lighter\">/Pd.x?sr.-i-----/en</span><span style=\"color:#cb4b16\"><span style=\"font-weight:bold\">)</span></span></span> <div style=\"margin-left:20px;color:#6c71c4\"><span style=\"font-weight:bold\">(</span><span style=\"color:#d33682\"><span style=\"color:#d33682\">by</span><span style=\"color:#000000;font-weight:lighter\">/T/en</span> <span style=\"color:#303030\"><span style=\"font-weight:bold\">(</span><span style=\"color:#cb4b16\"><span style=\"color:#cb4b16\">doing</span><span style=\"color:#000000;font-weight:lighter\">/P.o.|pg----/en</span> <span style=\"color:#268bd2\"><span style=\"color:#268bd2\">that</span><span style=\"color:#000000;font-weight:lighter\">/Cd/en</span><span style=\"color:#303030\"><span style=\"font-weight:bold\">)</span></span><span style=\"color:#6c71c4\"><span style=\"font-weight:bold\">)</span></span></span></div> <div style=\"margin-left:20px;color:#268bd2\"><span style=\"color:#268bd2\">%20</span><span style=\"color:#000000;font-weight:lighter\">/C/en</span> <div style=\"margin-left:20px;color:#268bd2\"><span style=\"color:#268bd2\">we</span><span style=\"color:#000000;font-weight:lighter\">/Ci/en</span> <div style=\"margin-left:20px;color:#303030\"><span style=\"font-weight:bold\">(</span><span style=\"color:#cb4b16\"><span style=\"color:#cb4b16\">learn</span><span style=\"color:#000000;font-weight:lighter\">/P.os.|f-----/en</span> <span style=\"color:#268bd2\"><span style=\"color:#268bd2\">what</span><span style=\"color:#000000;font-weight:lighter\">/Cw/en</span> <span style=\"color:#268bd2\"><span style=\"color:#268bd2\">we</span><span style=\"color:#000000;font-weight:lighter\">/Ci/en</span><span style=\"color:#303030\"><span style=\"font-weight:bold\">)</span></span><span style=\"color:#303030\"><span style=\"font-weight:bold\">)</span></span></div></span>"
      ],
      "text/plain": [
       "<IPython.core.display.HTML object>"
      ]
     },
     "metadata": {},
     "output_type": "display_data"
    },
    {
     "data": {
      "text/html": [
       "<span style=\"color:#303030\"><span style=\"font-weight:bold\">(</span><span style=\"color:#b58900\"><span style=\"color:#b58900\">:</span><span style=\"color:#000000;font-weight:lighter\">/J/.</span> <div style=\"margin-left:20px;color:#303030\"><span style=\"font-weight:bold\">(</span><span style=\"color:#b58900\"><span style=\"color:#b58900\">and</span><span style=\"color:#000000;font-weight:lighter\">/J/en</span> <div style=\"margin-left:20px;color:#303030\"><span style=\"font-weight:bold\">(</span><span style=\"color:#cb4b16\"><span style=\"font-weight:bold\">(</span><span style=\"color:#dc322f\"><span style=\"color:#dc322f\">ca</span><span style=\"color:#000000;font-weight:lighter\">/Mm/en</span> <span style=\"color:#cb4b16\"><span style=\"font-weight:bold\">(</span><span style=\"color:#dc322f\"><span style=\"color:#dc322f\">n&#x27;t</span><span style=\"color:#000000;font-weight:lighter\">/Mn/en</span> <span style=\"color:#cb4b16\"><span style=\"color:#cb4b16\">change</span><span style=\"color:#000000;font-weight:lighter\">/Pd.xs.-i-----/en</span><span style=\"color:#cb4b16\"><span style=\"font-weight:bold\">)</span></span><span style=\"color:#cb4b16\"><span style=\"font-weight:bold\">)</span></span></span></span> <div style=\"margin-left:20px;color:#6c71c4\"><span style=\"font-weight:bold\">(</span><span style=\"color:#d33682\"><span style=\"color:#d33682\">if</span><span style=\"color:#000000;font-weight:lighter\">/T/en</span> <span style=\"color:#303030\"><span style=\"font-weight:bold\">(</span><span style=\"color:#cb4b16\"><span style=\"font-weight:bold\">(</span><span style=\"color:#dc322f\"><span style=\"color:#dc322f\">do</span><span style=\"color:#000000;font-weight:lighter\">/Mv.|f-----/en</span> <span style=\"color:#cb4b16\"><span style=\"font-weight:bold\">(</span><span style=\"color:#dc322f\"><span style=\"color:#dc322f\">n&#x27;t</span><span style=\"color:#000000;font-weight:lighter\">/Mn/en</span> <span style=\"color:#cb4b16\"><span style=\"color:#cb4b16\">make</span><span style=\"color:#000000;font-weight:lighter\">/Pd.so.-i-----/en</span><span style=\"color:#cb4b16\"><span style=\"font-weight:bold\">)</span></span><span style=\"color:#cb4b16\"><span style=\"font-weight:bold\">)</span></span></span></span> <div style=\"margin-left:20px;color:#268bd2\"><span style=\"color:#268bd2\">we</span><span style=\"color:#000000;font-weight:lighter\">/Ci/en</span> <div style=\"margin-left:20px;color:#268bd2\"><span style=\"color:#268bd2\">mistakes</span><span style=\"color:#000000;font-weight:lighter\">/Cc.p/en</span><span style=\"color:#303030\"><span style=\"font-weight:bold\">)</span></span><span style=\"color:#6c71c4\"><span style=\"font-weight:bold\">)</span></span></span></div> <div style=\"margin-left:20px;color:#268bd2\"><span style=\"color:#268bd2\">we</span><span style=\"color:#000000;font-weight:lighter\">/Ci/en</span><span style=\"color:#303030\"><span style=\"font-weight:bold\">)</span></span></div> <div style=\"margin-left:20px;color:#303030\"><span style=\"font-weight:bold\">(</span><span style=\"color:#cb4b16\"><span style=\"font-weight:bold\">(</span><span style=\"color:#dc322f\"><span style=\"color:#dc322f\">well</span><span style=\"color:#000000;font-weight:lighter\">/M/en</span> <span style=\"color:#cb4b16\"><span style=\"color:#cb4b16\">do</span><span style=\"color:#000000;font-weight:lighter\">/P!.o.-i-----/en</span><span style=\"color:#cb4b16\"><span style=\"font-weight:bold\">)</span></span></span> <span style=\"color:#268bd2\"><span style=\"color:#268bd2\">things</span><span style=\"color:#000000;font-weight:lighter\">/Cc.p/en</span><span style=\"color:#303030\"><span style=\"font-weight:bold\">)</span></span><span style=\"color:#303030\"><span style=\"font-weight:bold\">)</span></span></div></div> <div style=\"margin-left:20px;color:#268bd2\"><span style=\"font-weight:bold\">(</span><span style=\"color:#dc322f\"><span style=\"color:#dc322f\">one</span><span style=\"color:#000000;font-weight:lighter\">/M#/en</span> <span style=\"color:#268bd2\"><span style=\"color:#268bd2\">day</span><span style=\"color:#000000;font-weight:lighter\">/Cc.s/en</span><span style=\"color:#268bd2\"><span style=\"font-weight:bold\">)</span></span><span style=\"color:#303030\"><span style=\"font-weight:bold\">)</span></span></div></span>"
      ],
      "text/plain": [
       "<IPython.core.display.HTML object>"
      ]
     },
     "metadata": {},
     "output_type": "display_data"
    },
    {
     "data": {
      "text/html": [
       "<span style=\"color:#303030\"><span style=\"font-weight:bold\">(</span><span style=\"color:#cb4b16\"><span style=\"color:#cb4b16\">remember</span><span style=\"color:#000000;font-weight:lighter\">/Pd.rs.|f-----/en</span> <div style=\"margin-left:20px;color:#303030\"><span style=\"font-weight:bold\">(</span><span style=\"color:#b58900\"><span style=\"color:#b58900\">and</span><span style=\"color:#000000;font-weight:lighter\">/J/en</span> <div style=\"margin-left:20px;color:#303030\"><span style=\"font-weight:bold\">(</span><span style=\"color:#cb4b16\"><span style=\"color:#cb4b16\">face</span><span style=\"color:#000000;font-weight:lighter\">/P.rsox.|f-----/en</span> <div style=\"margin-left:20px;color:#303030\"><span style=\"font-weight:bold\">(</span><span style=\"color:#cb4b16\"><span style=\"color:#cb4b16\">repair</span><span style=\"color:#000000;font-weight:lighter\">/P.rso.|f-----/en</span> <div style=\"margin-left:20px;color:#303030\"><span style=\"font-weight:bold\">(</span><span style=\"color:#cb4b16\"><span style=\"color:#cb4b16\">have</span><span style=\"color:#000000;font-weight:lighter\">/P.so.|f-----/en</span> <span style=\"color:#268bd2\"><span style=\"color:#268bd2\">we</span><span style=\"color:#000000;font-weight:lighter\">/Ci/en</span> <span style=\"color:#268bd2\"><span style=\"color:#268bd2\">accidents</span><span style=\"color:#000000;font-weight:lighter\">/Cc.p/en</span><span style=\"color:#303030\"><span style=\"font-weight:bold\">)</span></span></div> <div style=\"margin-left:20px;color:#268bd2\"><span style=\"color:#268bd2\">we</span><span style=\"color:#000000;font-weight:lighter\">/Ci/en</span> <div style=\"margin-left:20px;color:#268bd2\"><span style=\"font-weight:bold\">(</span><span style=\"color:#859900\"><span style=\"color:#859900\">+</span><span style=\"color:#000000;font-weight:lighter\">/B.mm/.</span> <span style=\"color:#268bd2\"><span style=\"color:#268bd2\">it</span><span style=\"color:#000000;font-weight:lighter\">/Ci/en</span> <span style=\"color:#268bd2\"><span style=\"color:#268bd2\">all</span><span style=\"color:#000000;font-weight:lighter\">/Cd/en</span><span style=\"color:#268bd2\"><span style=\"font-weight:bold\">)</span></span><span style=\"color:#303030\"><span style=\"font-weight:bold\">)</span></span></div></div> <div style=\"margin-left:20px;color:#268bd2\"><span style=\"color:#268bd2\">we</span><span style=\"color:#000000;font-weight:lighter\">/Ci/en</span> <div style=\"margin-left:20px;color:#268bd2\"><span style=\"font-weight:bold\">(</span><span style=\"color:#dc322f\"><span style=\"color:#dc322f\">the</span><span style=\"color:#000000;font-weight:lighter\">/Md/en</span> <span style=\"color:#268bd2\"><span style=\"font-weight:bold\">(</span><span style=\"color:#dc322f\"><span style=\"color:#dc322f\">whole</span><span style=\"color:#000000;font-weight:lighter\">/Ma/en</span> <span style=\"color:#268bd2\"><span style=\"color:#268bd2\">thing</span><span style=\"color:#000000;font-weight:lighter\">/Cc.s/en</span><span style=\"color:#268bd2\"><span style=\"font-weight:bold\">)</span></span><span style=\"color:#268bd2\"><span style=\"font-weight:bold\">)</span></span></span></div> <div style=\"margin-left:20px;color:#268bd2\"><span style=\"font-weight:bold\">(</span><span style=\"color:#dc322f\"><span style=\"font-weight:bold\">(</span><span style=\"color:#dc322f\"><span style=\"color:#dc322f\">a</span><span style=\"color:#000000;font-weight:lighter\">/Md/en</span> <span style=\"color:#dc322f\"><span style=\"color:#dc322f\">thousand</span><span style=\"color:#000000;font-weight:lighter\">/M#/en</span><span style=\"color:#dc322f\"><span style=\"font-weight:bold\">)</span></span></span> <span style=\"color:#268bd2\"><span style=\"color:#268bd2\">times</span><span style=\"color:#000000;font-weight:lighter\">/Cc.p/en</span><span style=\"color:#268bd2\"><span style=\"font-weight:bold\">)</span></span><span style=\"color:#303030\"><span style=\"font-weight:bold\">)</span></span></div></div> <div style=\"margin-left:20px;color:#303030\"><span style=\"font-weight:bold\">(</span><span style=\"color:#cb4b16\"><span style=\"color:#cb4b16\">understand</span><span style=\"color:#000000;font-weight:lighter\">/Pd.s.|f-----/en</span> <span style=\"color:#268bd2\"><span style=\"color:#268bd2\">we</span><span style=\"color:#000000;font-weight:lighter\">/Ci/en</span><span style=\"color:#303030\"><span style=\"font-weight:bold\">)</span></span><span style=\"color:#303030\"><span style=\"font-weight:bold\">)</span></span></div></div> <div style=\"margin-left:20px;color:#268bd2\"><span style=\"color:#268bd2\">we</span><span style=\"color:#000000;font-weight:lighter\">/Ci/en</span><span style=\"color:#303030\"><span style=\"font-weight:bold\">)</span></span></span>"
      ],
      "text/plain": [
       "<IPython.core.display.HTML object>"
      ]
     },
     "metadata": {},
     "output_type": "display_data"
    },
    {
     "data": {
      "text/html": [
       "<span style=\"color:#303030\"><span style=\"font-weight:bold\">(</span><span style=\"color:#cb4b16\"><span style=\"color:#cb4b16\">change</span><span style=\"color:#000000;font-weight:lighter\">/Pd.sr.|f-----/en</span> <div style=\"margin-left:20px;color:#268bd2\"><span style=\"color:#268bd2\">we</span><span style=\"color:#000000;font-weight:lighter\">/Ci/en</span> <div style=\"margin-left:20px;color:#303030\"><span style=\"font-weight:bold\">(</span><span style=\"color:#cb4b16\"><span style=\"color:#cb4b16\">are</span><span style=\"color:#000000;font-weight:lighter\">/P.xsc.|f-----/en</span> <div style=\"margin-left:20px;color:#6c71c4\"><span style=\"font-weight:bold\">(</span><span style=\"color:#d33682\"><span style=\"color:#d33682\">in</span><span style=\"color:#000000;font-weight:lighter\">/T/en</span> <span style=\"color:#268bd2\"><span style=\"font-weight:bold\">(</span><span style=\"color:#dc322f\"><span style=\"color:#dc322f\">a</span><span style=\"color:#000000;font-weight:lighter\">/Md/en</span> <span style=\"color:#268bd2\"><span style=\"color:#268bd2\">way</span><span style=\"color:#000000;font-weight:lighter\">/Cc.s/en</span><span style=\"color:#268bd2\"><span style=\"font-weight:bold\">)</span></span><span style=\"color:#6c71c4\"><span style=\"font-weight:bold\">)</span></span></span></div> <div style=\"margin-left:20px;color:#268bd2\"><span style=\"color:#268bd2\">we</span><span style=\"color:#000000;font-weight:lighter\">/Ci/en</span> <div style=\"margin-left:20px;color:#268bd2\"><span style=\"color:#268bd2\">better</span><span style=\"color:#000000;font-weight:lighter\">/Ca/en</span><span style=\"color:#303030\"><span style=\"font-weight:bold\">)</span></span><span style=\"color:#303030\"><span style=\"font-weight:bold\">)</span></span></div></span>"
      ],
      "text/plain": [
       "<IPython.core.display.HTML object>"
      ]
     },
     "metadata": {},
     "output_type": "display_data"
    },
    {
     "data": {
      "text/html": [
       "<span style=\"color:#268bd2\"><span style=\"font-weight:bold\">(</span><span style=\"color:#dc322f\"><span style=\"color:#dc322f\">:</span><span style=\"color:#000000;font-weight:lighter\">/Mj/.</span> <span style=\"color:#268bd2\"><span style=\"color:#268bd2\">why</span><span style=\"color:#000000;font-weight:lighter\">/C/en</span><span style=\"color:#268bd2\"><span style=\"font-weight:bold\">)</span></span></span>"
      ],
      "text/plain": [
       "<IPython.core.display.HTML object>"
      ]
     },
     "metadata": {},
     "output_type": "display_data"
    },
    {
     "data": {
      "text/html": [
       "<span style=\"color:#303030\"><span style=\"font-weight:bold\">(</span><span style=\"color:#cb4b16\"><span style=\"font-weight:bold\">(</span><span style=\"color:#dc322f\"><span style=\"color:#dc322f\">really</span><span style=\"color:#000000;font-weight:lighter\">/M/en</span> <span style=\"color:#cb4b16\"><span style=\"color:#cb4b16\">learn</span><span style=\"color:#000000;font-weight:lighter\">/Pd.rs.|f-----/en</span><span style=\"color:#cb4b16\"><span style=\"font-weight:bold\">)</span></span></span> <div style=\"margin-left:20px;color:#303030\"><span style=\"font-weight:bold\">(</span><span style=\"color:#cb4b16\"><span style=\"color:#cb4b16\">do</span><span style=\"color:#000000;font-weight:lighter\">/P.so.|f-----/en</span> <div style=\"margin-left:20px;color:#268bd2\"><span style=\"color:#268bd2\">we</span><span style=\"color:#000000;font-weight:lighter\">/Ci/en</span> <div style=\"margin-left:20px;color:#268bd2\"><span style=\"font-weight:bold\">(</span><span style=\"color:#dc322f\"><span style=\"color:#dc322f\">the</span><span style=\"color:#000000;font-weight:lighter\">/Md/en</span> <span style=\"color:#268bd2\"><span style=\"color:#268bd2\">job</span><span style=\"color:#000000;font-weight:lighter\">/Cc.s/en</span><span style=\"color:#268bd2\"><span style=\"font-weight:bold\">)</span></span><span style=\"color:#303030\"><span style=\"font-weight:bold\">)</span></span></div></div> <div style=\"margin-left:20px;color:#268bd2\"><span style=\"color:#268bd2\">we</span><span style=\"color:#000000;font-weight:lighter\">/Ci/en</span><span style=\"color:#303030\"><span style=\"font-weight:bold\">)</span></span></span>"
      ],
      "text/plain": [
       "<IPython.core.display.HTML object>"
      ]
     },
     "metadata": {},
     "output_type": "display_data"
    }
   ],
   "source": [
    "import pprint\n",
    "from graphbrain.notebook import *\n",
    "parses = parser.parse(text)\n",
    "\n",
    "\n",
    "parses = parses['parses']\n",
    "print('LEN: ',len(parses))\n",
    "for parse in parses:\n",
    "\n",
    "    edge = parse['main_edge']\n",
    "   # print('EDGE: ', edge.to_str())\n",
    "    show(edge)#.to_str())"
   ]
  },
  {
   "cell_type": "code",
   "execution_count": null,
   "id": "842219ad",
   "metadata": {},
   "outputs": [],
   "source": []
  }
 ],
 "metadata": {
  "kernelspec": {
   "display_name": "Python 3 (ipykernel)",
   "language": "python",
   "name": "python3"
  },
  "language_info": {
   "codemirror_mode": {
    "name": "ipython",
    "version": 3
   },
   "file_extension": ".py",
   "mimetype": "text/x-python",
   "name": "python",
   "nbconvert_exporter": "python",
   "pygments_lexer": "ipython3",
   "version": "3.8.8"
  }
 },
 "nbformat": 4,
 "nbformat_minor": 5
}
