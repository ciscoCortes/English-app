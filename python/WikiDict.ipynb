{
 "cells": [
  {
   "cell_type": "code",
   "execution_count": 1,
   "id": "57821919",
   "metadata": {},
   "outputs": [],
   "source": [
    "from wiktionaryparser import WiktionaryParser\n",
    "parser = WiktionaryParser()\n",
    "\n",
    "# from pprint import pprint\n",
    "# word = 'know'\n",
    "# response = parser.fetch(word)\n",
    "# pprint(response)"
   ]
  },
  {
   "cell_type": "code",
   "execution_count": 2,
   "id": "86e3b6dc",
   "metadata": {
    "scrolled": false
   },
   "outputs": [],
   "source": [
    "import re\n",
    "\n",
    "def fetchWikiDict(word_list):\n",
    "    Dict = {}\n",
    "    count = 0\n",
    "    for word in word_list:\n",
    "        response = parser.fetch(word)\n",
    "        for meaning in response:\n",
    "\n",
    "            # filtering pronunciations.\n",
    "            IPAs = {}\n",
    "            for p in meaning['pronunciations']['text']:\n",
    "                if 'IPA:' in p:\n",
    "                    UK = re.search('England|UK|Received Pronunciation', p)\n",
    "                    US = re.search('US|American|GenAm|enPR', p)\n",
    "                    if US and 'US' not in IPAs:\n",
    "                        IPAs['US'] = re.search('(IPA: )(.*)',p).group(2)\n",
    "                    if UK and 'UK' not in IPAs:\n",
    "                        IPAs['UK'] = re.search('(IPA: )(.*)',p).group(2)\n",
    "                    if re.match('IPA:',p) and 'IPA' not in IPAs: \n",
    "                        IPAs['IPA'] = re.search('(IPA: )(.*)',p).group(2)\n",
    "            if len(IPAs) == 3:\n",
    "                del IPAs['IPA']\n",
    "            if len(IPAs) == 2:\n",
    "                if 'UK' in IPAs and 'US' in IPAs:\n",
    "                    if IPAs['UK'] == IPAs['US']:\n",
    "                        IPAs['IPA'] = IPAs['US']  \n",
    "                        del IPAs['UK'], IPAs['US']\n",
    "                    \n",
    "            for definition in meaning['definitions']:\n",
    "                word_class = definition['partOfSpeech']\n",
    "\n",
    "                def_list = []\n",
    "                count = 0\n",
    "                for df in definition['text']:\n",
    "                    count += 1\n",
    "                    if count == 1:\n",
    "                        morfology = df\n",
    "                        continue\n",
    "                    match = re.search(\"(?:\\(.*)(UK|slang|obsolete|dialectal|Caribbean|MLE)(?:.*\\))\", df)\n",
    "                    if match:\n",
    "                        continue\n",
    "                    match = re.match(\"Dated form\", df)\n",
    "                    if match:\n",
    "                        continue\n",
    "                    def_list.append(df)  \n",
    "\n",
    "                if len(def_list) == 0: \n",
    "                    continue\n",
    "                if len(definition[\"examples\"]) == 0: \n",
    "                    continue\n",
    "                \n",
    "                examples = []\n",
    "                for Eg in definition['examples']:\n",
    "                    if len(Eg) < 60 and not re.match('Audio',Eg):\n",
    "                        examples.append(Eg)\n",
    "                    \n",
    "                if len(examples) == 0: \n",
    "                    continue\n",
    "                \n",
    "                data = {}    \n",
    "                data['class'] = word_class\n",
    "                data['examples'] = examples\n",
    "                    \n",
    "                if word in Dict:       \n",
    "                    Dict[word]['meanings'].append(data) \n",
    "                else: \n",
    "                    Dict[word] = {}\n",
    "                    Dict[word][\"morfology\"] = morfology\n",
    "                    Dict[word]['pronunciation'] = IPAs\n",
    "                    Dict[word]['meanings'] = []\n",
    "                    Dict[word]['meanings'].append(data) \n",
    "\n",
    "    return Dict"
   ]
  },
  {
   "cell_type": "code",
   "execution_count": 3,
   "id": "9d89c5a1",
   "metadata": {},
   "outputs": [],
   "source": [
    "import json\n",
    "\n",
    "with open(\"wordsList.json\", 'r') as f:\n",
    "    wordsList = json.loads(f.read())\n",
    "    wikiData = fetchWikiDict(wordsList)\n",
    "with open(\"wikiData.json\", 'w') as f:\n",
    "    json.dump(wikiData, f, ensure_ascii = False)"
   ]
  },
  {
   "cell_type": "code",
   "execution_count": null,
   "id": "fd7a6ba6",
   "metadata": {},
   "outputs": [],
   "source": []
  }
 ],
 "metadata": {
  "interpreter": {
   "hash": "46288a96d9b0371300585bfe55be2ba8c17bcbde38d0bc0b0832f4399a2cf23e"
  },
  "kernelspec": {
   "display_name": "Python 3.8.2 ('py3-8')",
   "language": "python",
   "name": "python3"
  },
  "language_info": {
   "codemirror_mode": {
    "name": "ipython",
    "version": 3
   },
   "file_extension": ".py",
   "mimetype": "text/x-python",
   "name": "python",
   "nbconvert_exporter": "python",
   "pygments_lexer": "ipython3",
   "version": "3.8.2"
  }
 },
 "nbformat": 4,
 "nbformat_minor": 5
}
