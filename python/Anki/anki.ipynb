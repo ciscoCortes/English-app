{
 "cells": [
  {
   "cell_type": "code",
   "execution_count": 18,
   "metadata": {},
   "outputs": [],
   "source": [
    "\n",
    "\n",
    "style = \"\"\"\n",
    ".card{\n",
    "    display: grid;\n",
    "    justify-content: center;\n",
    "    place-items: center;\n",
    "    color: rgb(41, 48, 65);\n",
    "    opacity: 90%;\n",
    "    margin: 3rem;\n",
    "}\n",
    "\n",
    ".title{\n",
    "    background-color: rgb(29, 34, 49);\n",
    "    opacity: 90%;\n",
    "    width: 100vw;\n",
    "    color: white;\n",
    "    /* color: rgb(74, 21, 117); */\n",
    "    padding: 1rem;\n",
    "}\n",
    "\n",
    ".word{\n",
    "    font-size: larger;\n",
    "    margin: 1rem;\n",
    "}\n",
    "\n",
    ".IPA {\n",
    "    font-size: small;\n",
    "}\n",
    "\n",
    "fieldset{\n",
    "    margin: 1rem;\n",
    "    border-radius: 10px;\n",
    "    margin-bottom: 2.5rem ;\n",
    "    padding: 0.7rem 2rem  2rem 2rem;\n",
    "    border: solid 1px rgba(71, 79, 94, 0.5);\n",
    "    box-shadow: 0px 3px 4px 0px  rgba(56, 53, 58, 0.5);\n",
    "}\n",
    "\n",
    "legend{\n",
    "    font-weight: 600;\n",
    "    \n",
    "}\n",
    "\n",
    ".example{\n",
    "    font-size: large;   \n",
    "    font-weight: 600;\n",
    "    opacity: 80%;\n",
    "    color: rgb(14, 18, 29);\n",
    "}\n",
    "\n",
    ".ejemplo{\n",
    "    margin-top: -0.8rem;\n",
    "    font-size: medium;\n",
    "    opacity: 90%;\n",
    "    color: rgb(10, 85, 0);\n",
    "}\n",
    "\n",
    ".egWord{\n",
    "    opacity:80%\n",
    "}\n",
    "\"\"\""
   ]
  },
  {
   "cell_type": "code",
   "execution_count": null,
   "metadata": {},
   "outputs": [],
   "source": [
    "html = \"\"\"\n",
    "    <div class=\"title\">\n",
    "      <strong class=\"word\">{}</strong>\n",
    "      <span class=\"IPA\">{}</span>\n",
    "    </div>\n",
    "    <br>\n",
    "    <main>\n",
    "    </main>\n",
    "\"\"\".format(word, ipa, meanings)\n",
    "\n",
    "meanings = \"\"\n",
    "meaning = \"\"\"\n",
    "      <fieldset>\n",
    "        <legend>{}</legend>\n",
    "      </fieldset>\n",
    "\"\"\".format(wordClass, examples)\n",
    "examples = \"\"\n",
    "example = \"\"\"\n",
    "          <p class=\"example\">{}<span class=\"egWord\">{}</span>{}</p>\n",
    "          <p class=\"ejemplo\">{}<strong>{}</strong>{}</p>\n",
    "\"\"\".format(egPrev,egWord,egPos,ejPrev,ejWord,ejPos)"
   ]
  },
  {
   "cell_type": "code",
   "execution_count": 19,
   "metadata": {},
   "outputs": [],
   "source": [
    "import genanki\n"
   ]
  },
  {
   "cell_type": "code",
   "execution_count": 30,
   "metadata": {},
   "outputs": [],
   "source": [
    "model_id = 1\n",
    "my_model = genanki.Model(\n",
    "  model_id, \n",
    "  'Simple Model',\n",
    "  fields=[\n",
    "    {'name': 'Question'},\n",
    "    {'name': 'Answer'},\n",
    "    {'name' : 'Sentences'}\n",
    "  ],\n",
    "  templates=[\n",
    "    {\n",
    "      'name': 'Card 1',\n",
    "      'qfmt': '{{Question}}',\n",
    "      'afmt': '{{FrontSide}}<hr id=\"answer\"><div style=\"font-size:50px;\">{{Answer}}</div><br></br> {{Sentences}}',\n",
    "    }\n",
    "  ],\n",
    "    css = style)"
   ]
  },
  {
   "cell_type": "code",
   "execution_count": 31,
   "metadata": {},
   "outputs": [],
   "source": [
    "deck_id = 2\n",
    "my_deck = genanki.Deck(deck_id = deck_id, \n",
    "                      name = 'Test deck', \n",
    "                      description = 'tests autogeneration of decks')"
   ]
  },
  {
   "cell_type": "code",
   "execution_count": 32,
   "metadata": {},
   "outputs": [],
   "source": [
    "\n",
    "card = genanki.Note(model = my_model, \n",
    "                       fields = [\"holi\", \n",
    "                                 \"holli\",\n",
    "                                 \"hollli\" \n",
    "                                ])\n",
    "my_deck.add_note(card)"
   ]
  },
  {
   "cell_type": "code",
   "execution_count": null,
   "metadata": {},
   "outputs": [],
   "source": [
    "\n",
    "my_deck = genanki.Deck(deck_id = deck_id, \n",
    "                      name = 'theogony_vocab')"
   ]
  },
  {
   "cell_type": "code",
   "execution_count": null,
   "metadata": {},
   "outputs": [],
   "source": [
    "for key in base.keys(): \n",
    "    entry = base[key]\n",
    "    \n",
    "    card = genanki.Note(model = my_model, \n",
    "                       fields = [entry['dictionary_form'], \n",
    "                                 entry['senses'],\n",
    "                                 entry['sentences']\n",
    "                                ])\n",
    "    my_deck.add_note(card)"
   ]
  },
  {
   "cell_type": "code",
   "execution_count": 33,
   "metadata": {},
   "outputs": [],
   "source": [
    "genanki.Package(my_deck).write_to_file('pruevis.apkg')"
   ]
  },
  {
   "cell_type": "code",
   "execution_count": null,
   "metadata": {},
   "outputs": [],
   "source": []
  }
 ],
 "metadata": {
  "interpreter": {
   "hash": "46288a96d9b0371300585bfe55be2ba8c17bcbde38d0bc0b0832f4399a2cf23e"
  },
  "kernelspec": {
   "display_name": "Python 3.8.2 ('py3-8')",
   "language": "python",
   "name": "python3"
  },
  "language_info": {
   "codemirror_mode": {
    "name": "ipython",
    "version": 3
   },
   "file_extension": ".py",
   "mimetype": "text/x-python",
   "name": "python",
   "nbconvert_exporter": "python",
   "pygments_lexer": "ipython3",
   "version": "3.8.2"
  },
  "orig_nbformat": 4
 },
 "nbformat": 4,
 "nbformat_minor": 2
}
