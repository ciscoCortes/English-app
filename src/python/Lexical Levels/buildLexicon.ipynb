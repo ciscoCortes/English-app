{
 "cells": [
  {
   "cell_type": "code",
   "execution_count": null,
   "metadata": {},
   "outputs": [],
   "source": [
    "\n",
    "# Import list of new words\n",
    "import json\n",
    "\n",
    "wordsList = []\n",
    "with open('dictionary.txt','r') as f:\n",
    "    words = f.read().split('\\n')\n",
    "for x in words:\n",
    "    wordsList.append(x.strip())\n",
    "\n",
    "dicList = list(map(translate,wordsList))\n",
    "\n",
    "#cleaner\n",
    "trash = \"making accidents adults an am answers are aren't asks b- baobabs birds believes brothers butterflies can't colours comes conversations discovers don't dollars doesn't does europeans elephants eats exists explains flowers games gives hands has him his he hundreds houses horns is i isn't it it's its laughs learning lives looks maths miles me mistakes moments my numbers ok pictures places planets problems prince's questions says sentences speaks sometimes starts takes that's that these them their the they things thinks times this trees wants words windows years yes you your\"\n",
    "trash = trash.split()\n",
    "\n",
    "def cleaner(word):\n",
    "    if word in trash:\n",
    "        return False\n",
    "    else:\n",
    "        return True\n",
    "    \n",
    "    \n",
    "wordsList = list(filter(cleaner, wordsList))\n",
    "\n",
    "with open(\"wordsList.json\", \"w\") as outfile:\n",
    "    json.dump(wordsList, outfile, ensure_ascii = False)"
   ]
  }
 ],
 "metadata": {
  "language_info": {
   "name": "python"
  },
  "orig_nbformat": 4
 },
 "nbformat": 4,
 "nbformat_minor": 2
}
